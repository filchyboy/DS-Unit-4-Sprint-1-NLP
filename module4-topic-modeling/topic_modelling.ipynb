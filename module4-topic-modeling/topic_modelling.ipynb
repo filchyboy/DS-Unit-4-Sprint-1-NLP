{
 "cells": [
  {
   "cell_type": "markdown",
   "metadata": {},
   "source": [
    "# Topic modelling with spacy + scikit-learn libraries\n",
    "\n",
    "1. **Motivation**: After researching some of the practical applications of topic modelling, \n",
    "I began to seek an approchable and logical path to perform such tasks on real world data.\n",
    "_Scitkit-learn_ and _SpaCy_ both have features which are  easy to understand and implement\n",
    "for effective [Natural Language Processing](https://en.wikipedia.org/wiki/Natural_language_processing)\n",
    "and [Topic Modelling](https://en.wikipedia.org/wiki/Topic_model). \n",
    "\n",
    "2. **Data set**: Data Science Job listings from [Indeed](https://www.indeed.com)\n",
    "\n",
    "3. **References**: \n",
    "    - [Latent Dirichlet Allocation](https://en.wikipedia.org/wiki/Latent_Dirichlet_allocation)\n",
    "        - Scitkit-learn LDA -- [sklearn.decomposition.LatentDirichletAllocation](https://scikit-learn.org/stable/modules/generated/sklearn.decomposition.LatentDirichletAllocation.html)\n",
    "    - [Vectorizing](https://mc.ai/machine-learning%E2%80%8A-%E2%80%8Anlp-vectorization-techniques/)\n",
    "        - Scitkit-learn CountVectorizer -- [sklearn.feature_extraction.text.CountVectorizer](https://scikit-learn.org/stable/modules/generated/sklearn.feature_extraction.text.CountVectorizer.html)\n",
    "        - spaCy word-embedding -- [spaCy word vectors](http://mlreference.com/word-vectors-spacy)\n",
    "        - Scikit-learn TF-IDF Vectorizer -- [sklearn.feature_extraction.text.TfidfVectorizer](https://scikit-learn.org/stable/modules/generated/sklearn.feature_extraction.text.TfidfVectorizer.html)\n",
    "    - Visualization\n",
    "        - [pyLDAvis](https://pyldavis.readthedocs.io/en/latest/readme.html)\n",
    "        "
   ]
  },
  {
   "cell_type": "code",
   "execution_count": 1,
   "metadata": {},
   "outputs": [],
   "source": [
    "# Imports\n",
    "import pandas as pd\n",
    "\n",
    "# sklearn imports\n",
    "from sklearn.decomposition import LatentDirichletAllocation\n",
    "from sklearn.feature_extraction.text import CountVectorizer, TfidfVectorizer\n",
    "\n",
    "# spaCy imports\n",
    "import spacy\n",
    "from spacy.lang.en.stop_words import STOP_WORDS"
   ]
  },
  {
   "cell_type": "code",
   "execution_count": 2,
   "metadata": {},
   "outputs": [
    {
     "data": {
      "text/html": [
       "<div>\n",
       "<style scoped>\n",
       "    .dataframe tbody tr th:only-of-type {\n",
       "        vertical-align: middle;\n",
       "    }\n",
       "\n",
       "    .dataframe tbody tr th {\n",
       "        vertical-align: top;\n",
       "    }\n",
       "\n",
       "    .dataframe thead th {\n",
       "        text-align: right;\n",
       "    }\n",
       "</style>\n",
       "<table border=\"1\" class=\"dataframe\">\n",
       "  <thead>\n",
       "    <tr style=\"text-align: right;\">\n",
       "      <th></th>\n",
       "      <th>desc</th>\n",
       "      <th>titles</th>\n",
       "    </tr>\n",
       "  </thead>\n",
       "  <tbody>\n",
       "    <tr>\n",
       "      <th>0</th>\n",
       "      <td>With one application you can be considered for...</td>\n",
       "      <td>Data Engineer</td>\n",
       "    </tr>\n",
       "    <tr>\n",
       "      <th>1</th>\n",
       "      <td>About FulgentFulgent is a leader in genetic an...</td>\n",
       "      <td>Backend developer for Bioinformatics Software ...</td>\n",
       "    </tr>\n",
       "    <tr>\n",
       "      <th>2</th>\n",
       "      <td>With one application you can be considered for...</td>\n",
       "      <td>Data Warehouse Engineer</td>\n",
       "    </tr>\n",
       "    <tr>\n",
       "      <th>3</th>\n",
       "      <td>We are GMAD (Globe Marketing And Advertising D...</td>\n",
       "      <td>Data Engineer</td>\n",
       "    </tr>\n",
       "    <tr>\n",
       "      <th>4</th>\n",
       "      <td>What We DoDolphin (withdolphin.com) is a free ...</td>\n",
       "      <td>Data Science Intern</td>\n",
       "    </tr>\n",
       "  </tbody>\n",
       "</table>\n",
       "</div>"
      ],
      "text/plain": [
       "                                                desc  \\\n",
       "0  With one application you can be considered for...   \n",
       "1  About FulgentFulgent is a leader in genetic an...   \n",
       "2  With one application you can be considered for...   \n",
       "3  We are GMAD (Globe Marketing And Advertising D...   \n",
       "4  What We DoDolphin (withdolphin.com) is a free ...   \n",
       "\n",
       "                                              titles  \n",
       "0                                      Data Engineer  \n",
       "1  Backend developer for Bioinformatics Software ...  \n",
       "2                            Data Warehouse Engineer  \n",
       "3                                      Data Engineer  \n",
       "4                                Data Science Intern  "
      ]
     },
     "execution_count": 2,
     "metadata": {},
     "output_type": "execute_result"
    }
   ],
   "source": [
    "# Load data\n",
    "JOBS = pd.read_csv('job_scrape.csv')\n",
    "JOBS.head()"
   ]
  },
  {
   "cell_type": "code",
   "execution_count": 3,
   "metadata": {},
   "outputs": [
    {
     "name": "stdout",
     "output_type": "stream",
     "text": [
      "(89, 2)\n"
     ]
    }
   ],
   "source": [
    "# Get basic information about data\n",
    "print(JOBS.shape)"
   ]
  },
  {
   "cell_type": "code",
   "execution_count": 4,
   "metadata": {},
   "outputs": [
    {
     "name": "stdout",
     "output_type": "stream",
     "text": [
      "Data Scientist\n",
      "Data Engineer\n",
      "Data Warehouse Engineer\n",
      "Data Science Intern\n",
      "Staff Data Scientist\n"
     ]
    }
   ],
   "source": [
    "# Curious what the most common job titles are...\n",
    "TOP_5 = JOBS['titles'].value_counts()[:5]\n",
    "print('\\n'.join([title for title in TOP_5.index]))"
   ]
  },
  {
   "cell_type": "code",
   "execution_count": 5,
   "metadata": {},
   "outputs": [
    {
     "name": "stdout",
     "output_type": "stream",
     "text": [
      "nine\n",
      "’d\n",
      "where\n",
      "been\n",
      "namely\n",
      "so\n",
      "thence\n",
      "i\n",
      "us\n",
      "in\n"
     ]
    }
   ],
   "source": [
    "# Take a look at some of our stop words\n",
    "STOP_WORDS = list(STOP_WORDS)\n",
    "print('\\n'.join([word for word in STOP_WORDS[:10]]))"
   ]
  },
  {
   "cell_type": "markdown",
   "metadata": {},
   "source": [
    "## Step 1 - Clean and tokenize"
   ]
  },
  {
   "cell_type": "code",
   "execution_count": 6,
   "metadata": {},
   "outputs": [],
   "source": [
    "# Load spacy model\n",
    "NLP = spacy.load('en_core_web_lg')"
   ]
  },
  {
   "cell_type": "code",
   "execution_count": 7,
   "metadata": {},
   "outputs": [],
   "source": [
    "# Write function to tokenize each document in the dataframe\n",
    "def tokenize(doc):\n",
    "    \"\"\" Takes a single document and tokenizes the text\n",
    "        by word.\n",
    "    \"\"\"\n",
    "    parsed_doc = NLP(doc)\n",
    "    tokens = [\n",
    "        str(word.lemma_).lower() for word in parsed_doc if\n",
    "        (not word.is_punct) &\n",
    "        (not word.is_stop) &\n",
    "        (not word.is_digit)\n",
    "    ]\n",
    "    return ' '.join(tokens)"
   ]
  },
  {
   "cell_type": "code",
   "execution_count": 8,
   "metadata": {},
   "outputs": [],
   "source": [
    "# Tokenize the job descriptions\n",
    "TOKENS = JOBS['desc'].apply(tokenize)"
   ]
  },
  {
   "cell_type": "code",
   "execution_count": 9,
   "metadata": {},
   "outputs": [],
   "source": [
    "# Write into dataframe\n",
    "JOBS['tokens'] = TOKENS"
   ]
  },
  {
   "cell_type": "code",
   "execution_count": 10,
   "metadata": {},
   "outputs": [
    {
     "data": {
      "text/plain": [
       "0     application consider thousand tech role lead c...\n",
       "1     fulgentfulgent leader genetic genomic clinical...\n",
       "2     application consider thousand tech role lead c...\n",
       "3     gmad globe marketing advertising distributors ...\n",
       "4     dodolphin withdolphin.com free resource help f...\n",
       "5     myers media group join myers media group inter...\n",
       "6     fun work company people truly believe   commit...\n",
       "7     cwds emphasize user center design collaboratio...\n",
       "8     join world roadway smart safe   join true pass...\n",
       "9     rs21rs21 lead datum science visualization comp...\n",
       "10    carta design product transform way hospital us...\n",
       "11    company mission highlights mpulse mobile leade...\n",
       "12    mission data science team mist juniper company...\n",
       "13    fun work company people truly believe   commit...\n",
       "14    northrop grumman develop cut edge technology p...\n",
       "15    datum technology drastically transform investm...\n",
       "16    intuit hire staff data scientist focus consume...\n",
       "17    application consider thousand tech role lead c...\n",
       "18    intuit ’s small business self employed group s...\n",
       "19    application consider thousand tech role lead c...\n",
       "20    application consider thousand tech role lead c...\n",
       "21    northrop grumman develop cut edge technology p...\n",
       "22    application consider thousand tech role lead c...\n",
       "23    description   responsible statistical predicti...\n",
       "24    company big data federation technology drive a...\n",
       "25    interview query rapidly grow datum science sta...\n",
       "26    responsibility work high visibility project e....\n",
       "27    machine learning developer iiimountain view ca...\n",
       "28    fullpower ® design develop operate complete pl...\n",
       "29    data scientist global fishing watch general su...\n",
       "                            ...                        \n",
       "59    application consider thousand tech role lead c...\n",
       "60    northrop grumman develop cut edge technology p...\n",
       "61    application consider thousand tech role lead c...\n",
       "62    rs21rs21 lead datum science visualization comp...\n",
       "63    intuit hire staff data scientist focus consume...\n",
       "64    loom loom mission empower work communicate eff...\n",
       "65    hms make healthcare system work better fight f...\n",
       "66    be look data science manager build team passio...\n",
       "67    market america- shop.com seek data scientist s...\n",
       "68    data science research amp development internsh...\n",
       "69    carpe data fierce group highly dedicate datum ...\n",
       "70    position summary position   direction data sci...\n",
       "71    atlassian continue hire open role interview bo...\n",
       "72    intern data scientist equinix equinix internet...\n",
       "73    datum technology drastically transform investm...\n",
       "74    immediate need data scientist machine learner ...\n",
       "75    application consider thousand tech role lead c...\n",
       "76    application consider thousand tech role lead c...\n",
       "77    fulgentfulgent leader genetic genomic clinical...\n",
       "78    application consider thousand tech role lead c...\n",
       "79    gmad globe marketing advertising distributors ...\n",
       "80    mission data science team mist juniper company...\n",
       "81    role descriptionthe data engineer responsible ...\n",
       "82    job summaryrequired skills ideal candidate deg...\n",
       "83    travel require requisition type regular succes...\n",
       "84    california policy lab create data drive insigh...\n",
       "85    crystal dynamics look talented enthusiastic hi...\n",
       "86    summary data science intern excellent opportun...\n",
       "87    data scientist notion build model predict thin...\n",
       "88    tangle systems llc omaha ne offer training amp...\n",
       "Name: tokens, Length: 89, dtype: object"
      ]
     },
     "execution_count": 10,
     "metadata": {},
     "output_type": "execute_result"
    }
   ],
   "source": [
    "JOBS['tokens']"
   ]
  },
  {
   "cell_type": "markdown",
   "metadata": {},
   "source": [
    "## Step 2 - Represent as vectors\n",
    "\n",
    "To be able to utilize the mathematical principles of LDA / Singular Value Decomposition, the words must be converted into vectors."
   ]
  },
  {
   "cell_type": "code",
   "execution_count": 11,
   "metadata": {},
   "outputs": [],
   "source": [
    "# Look at a sample of different vector representations\n",
    "TEST_CORPUS = [\n",
    "    \"vision improve clear lense\",\n",
    "    \"power tool light weight fun\",\n",
    "    [\"clear vision lense safety\"],\n",
    "    [\"review different\"]\n",
    "]\n",
    "\n",
    "def vectorize(doc):\n",
    "    \"\"\" Convert tokens in doc to vectors using \n",
    "        spaCy model.\n",
    "    \"\"\"\n",
    "    doc = NLP(doc)\n",
    "    vectors = [token.vector for token in doc]\n",
    "    return vectors"
   ]
  },
  {
   "cell_type": "code",
   "execution_count": 12,
   "metadata": {},
   "outputs": [
    {
     "name": "stdout",
     "output_type": "stream",
     "text": [
      "<class 'list'>\n"
     ]
    }
   ],
   "source": [
    "DOC = 'this is a test'\n",
    "print(type(vectorize(DOC)))"
   ]
  },
  {
   "cell_type": "code",
   "execution_count": 13,
   "metadata": {},
   "outputs": [],
   "source": [
    "# Oops, I want to make a single list of strings:\n",
    "TEST_CORPUS = [string for doc in TEST_CORPUS for string in doc]"
   ]
  },
  {
   "cell_type": "code",
   "execution_count": 14,
   "metadata": {},
   "outputs": [],
   "source": [
    "# Create DataFrame object to hold test case and such\n",
    "CORPUS_MATRIX = pd.DataFrame()\n",
    "\n",
    "# Create vectors\n",
    "TEST_VECTORS = [vectorize(x) for x in TEST_CORPUS]\n",
    "\n",
    "# Put corpus and vectors into dataframe\n",
    "CORPUS_MATRIX['reviews'] = TEST_CORPUS\n",
    "CORPUS_MATRIX['vectors'] = TEST_VECTORS"
   ]
  },
  {
   "cell_type": "code",
   "execution_count": 15,
   "metadata": {},
   "outputs": [
    {
     "data": {
      "text/html": [
       "<div>\n",
       "<style scoped>\n",
       "    .dataframe tbody tr th:only-of-type {\n",
       "        vertical-align: middle;\n",
       "    }\n",
       "\n",
       "    .dataframe tbody tr th {\n",
       "        vertical-align: top;\n",
       "    }\n",
       "\n",
       "    .dataframe thead th {\n",
       "        text-align: right;\n",
       "    }\n",
       "</style>\n",
       "<table border=\"1\" class=\"dataframe\">\n",
       "  <thead>\n",
       "    <tr style=\"text-align: right;\">\n",
       "      <th></th>\n",
       "      <th>reviews</th>\n",
       "      <th>vectors</th>\n",
       "    </tr>\n",
       "  </thead>\n",
       "  <tbody>\n",
       "    <tr>\n",
       "      <th>0</th>\n",
       "      <td>v</td>\n",
       "      <td>[[0.18061, 0.085702, -0.095462, 0.36394, 0.114...</td>\n",
       "    </tr>\n",
       "    <tr>\n",
       "      <th>1</th>\n",
       "      <td>i</td>\n",
       "      <td>[[0.18733, 0.40595, -0.51174, -0.55482, 0.0397...</td>\n",
       "    </tr>\n",
       "    <tr>\n",
       "      <th>2</th>\n",
       "      <td>s</td>\n",
       "      <td>[[0.066489, 0.45961, -0.12104, -0.016088, 0.21...</td>\n",
       "    </tr>\n",
       "    <tr>\n",
       "      <th>3</th>\n",
       "      <td>i</td>\n",
       "      <td>[[0.18733, 0.40595, -0.51174, -0.55482, 0.0397...</td>\n",
       "    </tr>\n",
       "    <tr>\n",
       "      <th>4</th>\n",
       "      <td>o</td>\n",
       "      <td>[[-0.14567, -0.68028, -0.47473, -0.13255, -0.0...</td>\n",
       "    </tr>\n",
       "  </tbody>\n",
       "</table>\n",
       "</div>"
      ],
      "text/plain": [
       "  reviews                                            vectors\n",
       "0       v  [[0.18061, 0.085702, -0.095462, 0.36394, 0.114...\n",
       "1       i  [[0.18733, 0.40595, -0.51174, -0.55482, 0.0397...\n",
       "2       s  [[0.066489, 0.45961, -0.12104, -0.016088, 0.21...\n",
       "3       i  [[0.18733, 0.40595, -0.51174, -0.55482, 0.0397...\n",
       "4       o  [[-0.14567, -0.68028, -0.47473, -0.13255, -0.0..."
      ]
     },
     "execution_count": 15,
     "metadata": {},
     "output_type": "execute_result"
    }
   ],
   "source": [
    "CORPUS_MATRIX.head()"
   ]
  },
  {
   "cell_type": "markdown",
   "metadata": {},
   "source": [
    "## Step 3 - Analyze Topics from LDA Transformation"
   ]
  },
  {
   "cell_type": "code",
   "execution_count": 27,
   "metadata": {},
   "outputs": [],
   "source": [
    "# Instantiate the vectorizer\n",
    "VECTORIZER = CountVectorizer(stop_words='english', lowercase=False)\n",
    "\n",
    "# Vectorize the job descriptions in preperation for LDA\n",
    "DATA_VECTORIZED = VECTORIZER.fit_transform(JOBS['tokens'])"
   ]
  },
  {
   "cell_type": "code",
   "execution_count": 28,
   "metadata": {},
   "outputs": [
    {
     "data": {
      "text/plain": [
       "<89x3117 sparse matrix of type '<class 'numpy.int64'>'\n",
       "\twith 14621 stored elements in Compressed Sparse Row format>"
      ]
     },
     "execution_count": 28,
     "metadata": {},
     "output_type": "execute_result"
    }
   ],
   "source": [
    "DATA_VECTORIZED"
   ]
  },
  {
   "cell_type": "code",
   "execution_count": 29,
   "metadata": {},
   "outputs": [],
   "source": [
    "# Instantiate LDA\n",
    "LDA = LatentDirichletAllocation(n_components=5, max_iter=10)"
   ]
  },
  {
   "cell_type": "code",
   "execution_count": 30,
   "metadata": {},
   "outputs": [],
   "source": [
    "# fit transform on our vectorized representations\n",
    "DATA_TRANSFORMED = LDA.fit_transform(DATA_VECTORIZED)"
   ]
  },
  {
   "cell_type": "code",
   "execution_count": 31,
   "metadata": {},
   "outputs": [],
   "source": [
    "# Functions for printing keywords for each topic\n",
    "# Antiquated, but it still works\n",
    "def selected_topics(model, vectorizer, top_n=10):\n",
    "    for idx, topic in enumerate(model.components_):\n",
    "        print(\"Topic %d:\" % (idx))\n",
    "        print([(vectorizer.get_feature_names()[i], topic[i])\n",
    "                        for i in topic.argsort()[:-top_n - 1:-1]])"
   ]
  },
  {
   "cell_type": "code",
   "execution_count": 33,
   "metadata": {},
   "outputs": [
    {
     "name": "stdout",
     "output_type": "stream",
     "text": [
      "Topic 0:\n",
      "[('datum', 116.81319261910616), ('experience', 66.20026488723788), ('year', 46.7724744093462), ('work', 44.853959947127066), ('team', 34.911610356251636)]\n",
      "Topic 1:\n",
      "[('experience', 56.70274418319609), ('application', 49.46684121889495), ('opportunity', 49.09134289869498), ('career', 42.98717776040977), ('datum', 39.692435879053974)]\n",
      "Topic 2:\n",
      "[('datum', 243.4270529508716), ('experience', 209.52654589002117), ('data', 171.58521664213634), ('work', 151.8556949305336), ('science', 129.73975456972582)]\n",
      "Topic 3:\n",
      "[('ashland', 1.1993198065696675), ('sgg', 1.1993198065696675), ('jr', 1.1993198065696675), ('preprocessing', 1.1993198065696675), ('abc', 1.1993198065696675)]\n",
      "Topic 4:\n",
      "[('experience', 58.37044191088628), ('work', 47.737597146157896), ('data', 45.31044620342194), ('team', 39.22776295323152), ('develop', 38.330815723724434)]\n",
      "None\n"
     ]
    }
   ],
   "source": [
    "print(selected_topics(LDA, VECTORIZER, top_n=5))"
   ]
  },
  {
   "cell_type": "code",
   "execution_count": 34,
   "metadata": {},
   "outputs": [],
   "source": [
    "# import pyLDAvis for sklearn\n",
    "import pyLDAvis.sklearn"
   ]
  },
  {
   "cell_type": "code",
   "execution_count": 35,
   "metadata": {},
   "outputs": [
    {
     "name": "stderr",
     "output_type": "stream",
     "text": [
      "C:\\Users\\Nocx\\Anaconda3\\envs\\DS-U4-NLP\\lib\\site-packages\\pyLDAvis\\_prepare.py:257: FutureWarning: Sorting because non-concatenation axis is not aligned. A future version\n",
      "of pandas will change to not sort by default.\n",
      "\n",
      "To accept the future behavior, pass 'sort=False'.\n",
      "\n",
      "To retain the current behavior and silence the warning, pass 'sort=True'.\n",
      "\n",
      "  return pd.concat([default_term_info] + list(topic_dfs))\n"
     ]
    },
    {
     "data": {
      "text/html": [
       "\n",
       "<link rel=\"stylesheet\" type=\"text/css\" href=\"https://cdn.rawgit.com/bmabey/pyLDAvis/files/ldavis.v1.0.0.css\">\n",
       "\n",
       "\n",
       "<div id=\"ldavis_el786017894001607123110813347\"></div>\n",
       "<script type=\"text/javascript\">\n",
       "\n",
       "var ldavis_el786017894001607123110813347_data = {\"mdsDat\": {\"x\": [1.907879114151001, -4.37490177154541, 10.014168739318848, 0.06310684233903885, 13.118634223937988], \"y\": [-23.2752685546875, -32.75938034057617, -37.727630615234375, -43.585655212402344, -26.762741088867188], \"topics\": [1, 2, 3, 4, 5], \"cluster\": [1, 1, 1, 1, 1], \"Freq\": [50.280941644393984, 18.00333988795325, 17.185486519190572, 14.387451872378746, 0.14278007608344465]}, \"tinfo\": {\"Category\": [\"Default\", \"Default\", \"Default\", \"Default\", \"Default\", \"Default\", \"Default\", \"Default\", \"Default\", \"Default\", \"Default\", \"Default\", \"Default\", \"Default\", \"Default\", \"Default\", \"Default\", \"Default\", \"Default\", \"Default\", \"Default\", \"Default\", \"Default\", \"Default\", \"Default\", \"Default\", \"Default\", \"Default\", \"Default\", \"Default\", \"Topic1\", \"Topic1\", \"Topic1\", \"Topic1\", \"Topic1\", \"Topic1\", \"Topic1\", \"Topic1\", \"Topic1\", \"Topic1\", \"Topic1\", \"Topic1\", \"Topic1\", \"Topic1\", \"Topic1\", \"Topic1\", \"Topic1\", \"Topic1\", \"Topic1\", \"Topic1\", \"Topic1\", \"Topic1\", \"Topic1\", \"Topic1\", \"Topic1\", \"Topic1\", \"Topic1\", \"Topic1\", \"Topic1\", \"Topic1\", \"Topic1\", \"Topic1\", \"Topic1\", \"Topic1\", \"Topic1\", \"Topic1\", \"Topic1\", \"Topic1\", \"Topic1\", \"Topic1\", \"Topic1\", \"Topic1\", \"Topic1\", \"Topic1\", \"Topic1\", \"Topic1\", \"Topic1\", \"Topic1\", \"Topic1\", \"Topic1\", \"Topic1\", \"Topic1\", \"Topic1\", \"Topic1\", \"Topic1\", \"Topic1\", \"Topic1\", \"Topic1\", \"Topic1\", \"Topic1\", \"Topic1\", \"Topic1\", \"Topic1\", \"Topic1\", \"Topic1\", \"Topic1\", \"Topic1\", \"Topic1\", \"Topic1\", \"Topic1\", \"Topic1\", \"Topic1\", \"Topic1\", \"Topic1\", \"Topic2\", \"Topic2\", \"Topic2\", \"Topic2\", \"Topic2\", \"Topic2\", \"Topic2\", \"Topic2\", \"Topic2\", \"Topic2\", \"Topic2\", \"Topic2\", \"Topic2\", \"Topic2\", \"Topic2\", \"Topic2\", \"Topic2\", \"Topic2\", \"Topic2\", \"Topic2\", \"Topic2\", \"Topic2\", \"Topic2\", \"Topic2\", \"Topic2\", \"Topic2\", \"Topic2\", \"Topic2\", \"Topic2\", \"Topic2\", \"Topic2\", \"Topic2\", \"Topic2\", \"Topic2\", \"Topic2\", \"Topic2\", \"Topic2\", \"Topic2\", \"Topic2\", \"Topic2\", \"Topic2\", \"Topic2\", \"Topic2\", \"Topic2\", \"Topic2\", \"Topic2\", \"Topic2\", \"Topic2\", \"Topic2\", \"Topic2\", \"Topic2\", \"Topic2\", \"Topic2\", \"Topic2\", \"Topic2\", \"Topic2\", \"Topic2\", \"Topic2\", \"Topic2\", \"Topic2\", \"Topic2\", \"Topic2\", \"Topic2\", \"Topic2\", \"Topic2\", \"Topic2\", \"Topic2\", \"Topic2\", \"Topic2\", \"Topic2\", \"Topic2\", \"Topic2\", \"Topic2\", \"Topic2\", \"Topic2\", \"Topic2\", \"Topic2\", \"Topic2\", \"Topic2\", \"Topic2\", \"Topic2\", \"Topic2\", \"Topic2\", \"Topic2\", \"Topic2\", \"Topic2\", \"Topic2\", \"Topic2\", \"Topic2\", \"Topic2\", \"Topic2\", \"Topic2\", \"Topic2\", \"Topic2\", \"Topic2\", \"Topic3\", \"Topic3\", \"Topic3\", \"Topic3\", \"Topic3\", \"Topic3\", \"Topic3\", \"Topic3\", \"Topic3\", \"Topic3\", \"Topic3\", \"Topic3\", \"Topic3\", \"Topic3\", \"Topic3\", \"Topic3\", \"Topic3\", \"Topic3\", \"Topic3\", \"Topic3\", \"Topic3\", \"Topic3\", \"Topic3\", \"Topic3\", \"Topic3\", \"Topic3\", \"Topic3\", \"Topic3\", \"Topic3\", \"Topic3\", \"Topic3\", \"Topic3\", \"Topic3\", \"Topic3\", \"Topic3\", \"Topic3\", \"Topic3\", \"Topic3\", \"Topic3\", \"Topic3\", \"Topic3\", \"Topic3\", \"Topic3\", \"Topic3\", \"Topic3\", \"Topic3\", \"Topic3\", \"Topic3\", \"Topic3\", \"Topic3\", \"Topic3\", \"Topic3\", \"Topic3\", \"Topic3\", \"Topic3\", \"Topic3\", \"Topic3\", \"Topic3\", \"Topic3\", \"Topic3\", \"Topic3\", \"Topic3\", \"Topic3\", \"Topic3\", \"Topic3\", \"Topic3\", \"Topic3\", \"Topic4\", \"Topic4\", \"Topic4\", \"Topic4\", \"Topic4\", \"Topic4\", \"Topic4\", \"Topic4\", \"Topic4\", \"Topic4\", \"Topic4\", \"Topic4\", \"Topic4\", \"Topic4\", \"Topic4\", \"Topic4\", \"Topic4\", \"Topic4\", \"Topic4\", \"Topic4\", \"Topic4\", \"Topic4\", \"Topic4\", \"Topic4\", \"Topic4\", \"Topic4\", \"Topic4\", \"Topic4\", \"Topic4\", \"Topic4\", \"Topic4\", \"Topic4\", \"Topic4\", \"Topic4\", \"Topic4\", \"Topic4\", \"Topic4\", \"Topic4\", \"Topic4\", \"Topic4\", \"Topic4\", \"Topic4\", \"Topic4\", \"Topic4\", \"Topic4\", \"Topic4\", \"Topic4\", \"Topic4\", \"Topic4\", \"Topic4\", \"Topic4\", \"Topic4\", \"Topic4\", \"Topic4\", \"Topic4\", \"Topic4\", \"Topic4\", \"Topic4\", \"Topic4\", \"Topic4\", \"Topic4\", \"Topic4\", \"Topic4\", \"Topic4\", \"Topic4\", \"Topic4\", \"Topic4\", \"Topic4\", \"Topic4\", \"Topic4\", \"Topic4\", \"Topic4\", \"Topic4\", \"Topic4\", \"Topic4\", \"Topic4\", \"Topic4\", \"Topic4\", \"Topic4\", \"Topic4\", \"Topic4\", \"Topic4\", \"Topic4\", \"Topic4\", \"Topic4\", \"Topic4\", \"Topic4\", \"Topic4\", \"Topic4\", \"Topic4\", \"Topic4\", \"Topic4\", \"Topic4\", \"Topic4\", \"Topic5\", \"Topic5\", \"Topic5\", \"Topic5\", \"Topic5\", \"Topic5\", \"Topic5\", \"Topic5\", \"Topic5\", \"Topic5\", \"Topic5\", \"Topic5\", \"Topic5\", \"Topic5\", \"Topic5\", \"Topic5\", \"Topic5\", \"Topic5\", \"Topic5\", \"Topic5\", \"Topic5\", \"Topic5\", \"Topic5\", \"Topic5\", \"Topic5\", \"Topic5\", \"Topic5\", \"Topic5\", \"Topic5\", \"Topic5\", \"Topic5\", \"Topic5\", \"Topic5\", \"Topic5\", \"Topic5\", \"Topic5\", \"Topic5\", \"Topic5\", \"Topic5\", \"Topic5\", \"Topic5\", \"Topic5\", \"Topic5\", \"Topic5\", \"Topic5\", \"Topic5\", \"Topic5\", \"Topic5\", \"Topic5\", \"Topic5\", \"Topic5\", \"Topic5\", \"Topic5\", \"Topic5\", \"Topic5\", \"Topic5\", \"Topic5\", \"Topic5\", \"Topic5\", \"Topic5\", \"Topic5\", \"Topic5\", \"Topic5\", \"Topic5\", \"Topic5\", \"Topic5\", \"Topic5\", \"Topic5\", \"Topic5\", \"Topic5\", \"Topic5\", \"Topic5\", \"Topic5\", \"Topic5\", \"Topic5\", \"Topic5\", \"Topic5\", \"Topic5\", \"Topic5\", \"Topic5\", \"Topic5\", \"Topic5\", \"Topic5\", \"Topic5\", \"Topic5\", \"Topic5\", \"Topic5\", \"Topic5\", \"Topic5\", \"Topic5\", \"Topic5\", \"Topic5\", \"Topic5\", \"Topic5\", \"Topic5\", \"Topic5\", \"Topic5\", \"Topic5\", \"Topic5\", \"Topic5\", \"Topic5\", \"Topic5\", \"Topic5\", \"Topic5\", \"Topic5\", \"Topic5\", \"Topic5\", \"Topic5\", \"Topic5\", \"Topic5\", \"Topic5\", \"Topic5\", \"Topic5\", \"Topic5\", \"Topic5\", \"Topic5\", \"Topic5\", \"Topic5\", \"Topic5\", \"Topic5\", \"Topic5\", \"Topic5\", \"Topic5\", \"Topic5\", \"Topic5\", \"Topic5\", \"Topic5\", \"Topic5\", \"Topic5\", \"Topic5\", \"Topic5\", \"Topic5\", \"Topic5\", \"Topic5\", \"Topic5\", \"Topic5\", \"Topic5\", \"Topic5\", \"Topic5\", \"Topic5\", \"Topic5\", \"Topic5\", \"Topic5\", \"Topic5\", \"Topic5\", \"Topic5\", \"Topic5\", \"Topic5\", \"Topic5\", \"Topic5\", \"Topic5\", \"Topic5\", \"Topic5\", \"Topic5\", \"Topic5\", \"Topic5\"], \"Freq\": [71.0, 43.0, 395.0, 41.0, 93.0, 116.0, 52.0, 29.0, 70.0, 20.0, 20.0, 36.0, 103.0, 76.0, 21.0, 36.0, 178.0, 69.0, 28.0, 352.0, 16.0, 50.0, 58.0, 48.0, 62.0, 84.0, 17.0, 249.0, 53.0, 102.0, 24.073484093615086, 23.12098350846308, 23.113980250765927, 17.388276016029238, 16.433095104460076, 16.432892721449292, 15.47754122861791, 14.522269447602447, 14.51315179207952, 13.565986707327502, 12.609285348140208, 11.656032198212543, 11.65558368139136, 10.690143702143578, 9.74186340469942, 10.603535950239205, 8.78979436215384, 8.78979436215384, 8.789794274729939, 8.789793930030244, 8.787501631299808, 8.787435898859778, 7.834381887914553, 7.834381389299188, 7.834381210153852, 7.834381189766131, 7.834379871144102, 7.834372023284302, 7.834213241375481, 7.834114921464864, 21.08884530955013, 18.318961314434734, 17.993661524777885, 16.228378767013446, 11.24298568999552, 11.990363229125492, 123.95499721195257, 49.19489126565034, 50.344456520466025, 33.49613000701818, 14.116590965678023, 163.93467924326777, 35.86111182185783, 26.656367927775076, 32.26530898978851, 232.57327539973693, 53.0338529735192, 30.094414898956288, 42.067773379235405, 200.18430355261395, 145.0848454597411, 67.92819881642227, 108.82499798742766, 46.68714691622242, 51.17514816989021, 63.66248479811943, 52.18995944233282, 70.56077490998634, 54.126716963639765, 47.792384995636326, 47.94054724597032, 33.860017609701146, 59.255300715409994, 43.30505876986376, 41.99876880399209, 47.0251789887875, 39.79083630412346, 44.40053140223629, 40.9400118586656, 43.18179297316394, 40.13119009747205, 39.14590361057793, 38.34924251207639, 39.589157072613354, 21.143640530563857, 16.948999652711237, 11.91343041014471, 9.397321121193979, 6.880286653122441, 6.880286653122441, 6.877219351383155, 6.039731303548453, 6.038797412679749, 5.201762015908919, 5.200660907136952, 5.196741408392282, 5.196083657684678, 4.3631083525637795, 4.363107975770955, 4.363078713411805, 4.363024951420275, 4.362863694506111, 4.362628571081567, 4.361359018972993, 4.359342958683129, 4.356275269132591, 4.350655516756277, 4.350209537864665, 15.261444973587507, 3.5240489695465147, 3.5240489695465147, 3.5240489695465147, 3.5240489695465147, 3.5240489695465147, 3.5240489695465147, 3.5240489695465147, 3.5240489695465147, 3.5240489695465147, 3.5240489695465147, 3.5240489695465147, 3.5240489695465147, 3.5240489695465147, 3.5240489695465147, 3.5240489695465147, 3.5240489695465147, 3.5240489695465147, 3.5240489695465147, 3.5240489695465147, 3.5240489695465147, 3.5240489695465147, 3.5240489695465147, 3.5240489695465147, 3.5240489695465147, 3.5240489695465147, 6.880704459010468, 3.5240489695465147, 3.5240489695465147, 3.5240489695465147, 3.5240489695465147, 3.5240489695465147, 3.5240489695465147, 11.912347827899685, 9.181152636587113, 10.37969330860721, 10.237925323584232, 24.507111078360666, 15.083481980903544, 7.719630314192381, 8.558807828486966, 24.104278419835918, 9.209167872604715, 39.24488504421565, 98.01320913371624, 9.042797258122304, 16.929551290852597, 27.104719598261827, 19.939238418444685, 9.947261185790088, 13.669797727530373, 18.43887284626163, 55.54595556905436, 22.05370587435342, 25.30777033125947, 20.3952443518616, 18.638279655282748, 37.63513742072002, 19.337574314646492, 14.074051606682417, 29.29291538327864, 23.33399687050977, 17.35158793820159, 17.59917568550397, 15.582088503022293, 17.478002579423244, 17.5130178293154, 15.72888786477248, 18.08339642338897, 14.707340257178403, 14.541252937989793, 13.810741641782997, 13.810738217240074, 12.10570783870196, 12.10570783870196, 12.10570783870196, 12.10570783870196, 12.10570783870196, 8.650689928341233, 12.105959044344587, 4.433077280666065, 4.433077090547414, 4.433077090547414, 4.433077090547414, 4.433077090547414, 4.433063948942694, 4.433063948942694, 12.106154140501195, 12.870211509106705, 11.16864222575826, 3.580562353755501, 3.580562353755501, 3.580562353755501, 3.580562353755501, 3.580562353755501, 3.580562323699274, 3.5805620824706637, 3.5805620824706637, 3.5790125211281687, 25.650689768794255, 12.106093436597217, 36.647211221673274, 12.106791023606881, 15.516429017316216, 15.517309834251195, 7.694526523564031, 30.50567164013837, 12.774251898845963, 12.95886870356162, 25.094357337733502, 42.17122111904228, 14.701493858148671, 12.624912042718552, 18.789995215766215, 41.851103191541924, 13.586253562838605, 30.785286648491823, 27.950224567526167, 24.982715508137932, 18.281270500449093, 21.658964934573266, 26.82943369853223, 48.33993649250177, 26.60074219938726, 19.357698326117777, 30.990124857612496, 33.83839454801527, 27.581198396312207, 16.984102912160207, 15.088096740708547, 13.973717001047904, 15.067041999074554, 15.106545059701915, 14.528657169657345, 14.278654653864992, 14.66992032926992, 14.462512589632597, 14.568506109606348, 19.962764529675884, 19.962764529675884, 12.53859588897089, 10.888780554492302, 10.063872957631602, 10.063658160565351, 6.764242225837452, 6.764242225837452, 6.764242225837452, 5.921400849767887, 5.114427090496477, 5.1138283535588505, 5.113275999494746, 5.111714451497376, 4.289519444209981, 4.289519444209981, 4.289519317429887, 4.289329965681892, 4.289297097596411, 4.289297097596411, 4.213430896490269, 10.064579657573281, 3.4646117963804275, 3.4646117963804275, 3.464611635517905, 3.464611635517905, 3.464611635517905, 3.464611635517905, 3.464611635517905, 3.464611635517905, 3.464611635517905, 3.464611635517905, 3.464611635517905, 3.464611635517905, 3.464611635517905, 3.464611635517905, 3.464611635517905, 3.464611635517905, 3.464611635517905, 3.464611635517905, 3.464611635517905, 3.464611635517905, 3.464611635517905, 3.464611635517905, 3.464611635517905, 3.464611635517905, 3.464611635517905, 3.464611635517905, 6.764602854570361, 3.464611635517905, 6.731003179787297, 3.464611635517905, 3.464611635517905, 3.464611635517905, 3.464611635517905, 3.464611635517905, 7.589497910197494, 3.464611635517905, 3.464611635517905, 3.464611635517905, 3.464611635517905, 9.379208345757945, 11.882567659733812, 10.799889896269033, 17.386393299156122, 6.807816776770766, 26.528300679215107, 20.087565520480627, 31.619382864282255, 10.79411867113999, 15.104409745943414, 9.248997990802339, 48.150223674872734, 39.37910875846525, 32.35928148953609, 37.37693339436854, 17.181121759187977, 13.92547885872863, 20.275663843164057, 17.65910100798969, 21.124860990750584, 16.766564655440522, 31.236860819295426, 11.275692949130665, 17.02807816701982, 16.110303760062138, 15.193714791531596, 12.94151785207168, 12.511341556135992, 12.608341850095174, 12.378943119925152, 11.596714109955682, 11.393860529257136, 11.33797954387978, 0.05708846252511065, 0.05708846252511065, 0.05708846252511065, 0.05708846252511065, 0.05708846252511065, 0.05708846252511065, 0.05708846252511065, 0.05708846252511065, 0.05708846252511065, 0.051590342520004766, 0.051588666016034686, 0.04353544495055622, 0.009520155793100199, 0.009520155793100199, 0.009520155793100199, 0.009520155793100199, 0.009520155793100199, 0.009520155793100199, 0.009520155793100199, 0.009520155793100199, 0.009520155793100199, 0.009520155793100199, 0.009520155793100199, 0.009520155793100199, 0.009520155793100199, 0.009520155793100199, 0.009520155793100199, 0.009520155793100199, 0.009520155793100199, 0.009520155793100199, 0.05063783580543642, 0.009520155793100199, 0.009520155793100199, 0.009520155793100199, 0.009520155793100199, 0.009520155793100199, 0.009520155793100199, 0.009520155793100199, 0.009520155793100199, 0.009520155793100199, 0.009520155793100199, 0.009520155793100199, 0.009520155793100199, 0.009520155793100199, 0.009520155793100199, 0.009520155793100199, 0.009520155793100199, 0.009520155793100199, 0.009520155793100199, 0.009520155793100199, 0.009520155793100199, 0.009520155793100199, 0.009520155793100199, 0.009520155793100199, 0.009520155793100199, 0.009520155793100199, 0.009520155793100199, 0.009520155793100199, 0.009520155793100199, 0.009520155793100199, 0.009520155793100199, 0.009520155793100199, 0.009520155793100199, 0.009520155793100199, 0.009520155793100199, 0.009520155793100199, 0.009520155793100199, 0.009520155793100199, 0.009520155793100199, 0.009520155793100199, 0.009520155793100199, 0.009520155793100199, 0.009520155793100199, 0.009520155793100199, 0.009520155793100199, 0.009520155793100199, 0.009520155793100199, 0.03689761657501501, 0.018054470874757075, 0.009520155793100199, 0.009520155793100199, 0.018736931992442578, 0.009520155793100199, 0.009520155793100199, 0.009520178189751337, 0.009520178189751337, 0.009520178189751337, 0.009520178189751337, 0.009520178189751337, 0.009520178189751337, 0.009520178189751337, 0.009520178189751337, 0.009520178189751337, 0.009520178189751337, 0.009520178189751337, 0.009520178189751337, 0.009520178189751337, 0.009520178189751337, 0.009520178189751337, 0.009520178189751337, 0.009520178189751337, 0.009520178189751337, 0.009520178189751337, 0.009520178189751337, 0.009520178189751339, 0.009520178189751337, 0.009520178189751337, 0.009520178189751337, 0.009520178189751337, 0.009520178189751337, 0.009520178189751337, 0.009520178189751337, 0.009520178189751337, 0.009520178189751337, 0.009520178189751339, 0.009520178189751339, 0.009520222354593214, 0.009520222354593214, 0.009520222354593214, 0.009520222354593214, 0.009520222354593214, 0.009520222354593214, 0.009520222354593214, 0.009520222354593214, 0.009520222354593214, 0.009520222354593214, 0.009520222354593214, 0.009520222354593214, 0.009520222354593214, 0.009520243678432936, 0.010327299046242211, 0.009520243678432936, 0.009520243678432938, 0.009520243678432938, 0.009520243678432938, 0.009520243678432945, 0.009520243678432945, 0.009520243678432943, 0.00952024367843295, 0.009520243678432953, 0.009520243678432952, 0.009520243678432953, 0.009520243678432953, 0.009786484277367127, 0.009683726804169155, 0.009662341414201409, 0.009640338491866376, 0.009626616043291476, 0.009609123705706811, 0.009607080018553565, 0.009605378932805966, 0.009599798871895732, 0.009582115141729112, 0.009577544856232696, 0.009572643697139787, 0.009569420200035789], \"Term\": [\"application\", \"career\", \"datum\", \"policy\", \"opportunity\", \"develop\", \"employee\", \"free\", \"service\", \"grumman\", \"northrop\", \"tech\", \"year\", \"model\", \"investment\", \"consumer\", \"team\", \"customer\", \"interview\", \"experience\", \"profile\", \"insight\", \"amp\", \"large\", \"role\", \"health\", \"goodwater\", \"work\", \"create\", \"company\", \"intern\", \"bioinformatics\", \"internship\", \"client\", \"clinical\", \"bring\", \"java\", \"rs21\", \"enterprise\", \"behavioral\", \"leverage\", \"bioinformatic\", \"content\", \"college\", \"multi\", \"expert\", \"sequencing\", \"fulgent\", \"ucsf\", \"efficiency\", \"major\", \"meaningful\", \"laboratory\", \"dexis\", \"researcher\", \"facebook\", \"threat\", \"sbseg\", \"achieve\", \"tackle\", \"self\", \"testing\", \"way\", \"expertise\", \"track\", \"successful\", \"science\", \"research\", \"problem\", \"program\", \"compensation\", \"data\", \"degree\", \"algorithm\", \"big\", \"datum\", \"software\", \"visualization\", \"analytic\", \"experience\", \"work\", \"analysis\", \"team\", \"support\", \"learning\", \"business\", \"skill\", \"develop\", \"development\", \"technology\", \"machine\", \"ability\", \"product\", \"tool\", \"knowledge\", \"include\", \"position\", \"build\", \"new\", \"time\", \"help\", \"engineering\", \"project\", \"company\", \"investment\", \"goodwater\", \"iehp\", \"h2o\", \"entrepreneur\", \"belief\", \"explore\", \"pathrise\", \"loom\", \"warehouse\", \"recruiting\", \"elasticsearch\", \"stage\", \"failure\", \"savari\", \"adapt\", \"trading\", \"standard\", \"designing\", \"gathering\", \"compute\", \"flink\", \"continually\", \"prediction\", \"capital\", \"optimizationstrong\", \"vet\", \"overcome\", \"spawn\", \"frequency\", \"225\", \"crawler\", \"grade\", \"capitalgoodwater\", \"incubator\", \"consequence\", \"impala\", \"trillion\", \"responsive\", \"actually\", \"productivity\", \"microservice\", \"160\", \"elastic\", \"akka\", \"focusedpeople\", \"fluid\", \"sparkexperience\", \"irrevocably\", \"phenomenon\", \"commerce\", \"scraper\", \"vc\", \"iteratively\", \"heavily\", \"realize\", \"architecturestrong\", \"early\", \"reporting\", \"power\", \"venture\", \"consumer\", \"ai\", \"broad\", \"series\", \"large\", \"financial\", \"year\", \"datum\", \"transform\", \"industry\", \"build\", \"database\", \"comfortable\", \"quality\", \"insight\", \"experience\", \"service\", \"company\", \"drive\", \"preferred\", \"work\", \"knowledge\", \"pipeline\", \"team\", \"product\", \"new\", \"technology\", \"good\", \"business\", \"analysis\", \"software\", \"data\", \"customer\", \"solution\", \"iq\", \"thousand\", \"promotion\", \"foot\", \"approve\", \"seen\", \"cookie\", \"globe\", \"coach\", \"gov\", \"pregnancy\", \"allow\", \"offthis\", \"military\", \"turbotax\", \"tax\", \"mark\", \"agree\", \"equinix\", \"healthiq\", \"instead\", \"hyper\", \"equipment\", \"conscious\", \"ca\", \"quick\", \"qualificationsexperience\", \"nextgen\", \"free\", \"privacy\", \"career\", \"talk\", \"consider\", \"today\", \"condition\", \"policy\", \"profile\", \"forward\", \"tech\", \"application\", \"account\", \"match\", \"interview\", \"opportunity\", \"want\", \"service\", \"role\", \"amp\", \"employer\", \"create\", \"health\", \"experience\", \"company\", \"employee\", \"data\", \"datum\", \"work\", \"process\", \"status\", \"connect\", \"base\", \"join\", \"lead\", \"insurance\", \"time\", \"scientist\", \"include\", \"northrop\", \"grumman\", \"gfw\", \"ocean\", \"vessel\", \"produce\", \"flight\", \"northropgrumman\", \"logical\", \"perspective\", \"fishing\", \"continuous\", \"governance\", \"carpe\", \"imagery\", \"gps\", \"workforce\", \"benefits\", \"attract\", \"chart\", \"oracle\", \"history\", \"satellite\", \"watch\", \"default\", \"floor\", \"waterfall\", \"mechanical\", \"warfighter\", \"atlantic\", \"landing\", \"stealth\", \"pages\", \"commonality\", \"macros\", \"spirit\", \"85\", \"dual\", \"pioneering\", \"preserve\", \"savings\", \"lifecycle\", \"objects\", \"html\", \"arrangements\", \"mutual\", \"tough\", \"optimized\", \"retain\", \"technically\", \"expect\", \"bomber\", \"en2\", \"moon\", \"flexibility\", \"sciences\", \"eeo\", \"charter\", \"aa\", \"receptive\", \"sustain\", \"action\", \"pay\", \"global\", \"benefit\", \"country\", \"model\", \"employee\", \"develop\", \"plan\", \"requirement\", \"query\", \"experience\", \"work\", \"team\", \"data\", \"provide\", \"organization\", \"development\", \"customer\", \"product\", \"engineering\", \"datum\", \"identify\", \"time\", \"health\", \"year\", \"tool\", \"amp\", \"support\", \"good\", \"project\", \"require\", \"position\", \"abc\", \"kalyani\", \"webtek\", \"nagar\", \"ashland\", \"sgg\", \"ky\", \"preprocessing\", \"jr\", \"undertaking\", \"collection\", \"present\", \"aires\", \"fw\", \"teach\", \"earth\", \"feed\", \"dramatically\", \"vesselscollaborate\", \"pythonstrong\", \"computation\", \"mountain\", \"publiclocation\", \"helpfulcombine\", \"65\", \"finally\", \"jobgoogle\", \"near\", \"projectscomfortable\", \"visualizationsjob\", \"building\", \"factor\", \"terabyte\", \"journals\", \"45\", \"problemsability\", \"locationsdevelope\", \"noise\", \"stewardship\", \"teamproactive\", \"animal\", \"organizationexcellent\", \"overlap\", \"overtime\", \"occur\", \"takingpeople\", \"zones\", \"payable\", \"synthetic\", \"broadcast\", \"networksknowledge\", \"occasion\", \"buenos\", \"weekend\", \"skillsdemonstrated\", \"levelgfw\", \"fridaybenefit\", \"globalfishing\", \"tensorflowneural\", \"eligiblework\", \"phone\", \"pollution\", \"pollutionuse\", \"elevated\", \"possible\", \"countriesintellectually\", \"activitycombe\", \"marine\", \"enginedistributed\", \"sensing\", \"exact\", \"shark\", \"capabilitiesdemonstrated\", \"tuna\", \"unreported\", \"aperture\", \"pacific\", \"profile\", \"scientists\", \"ngos\", \"obviously\", \"address\", \"understandingrequired\", \"sustainability\", \"okta\", \"founders\", \"marry\", \"ea\", \"perceive\", \"viz\", \"pixar\", \"stipend\", \"dig\", \"district\", \"paint\", \"integral\", \"quantify\", \"combinator\", \"awesome\", \"nextdoor\", \"approachable\", \"picture\", \"depression\", \"wellbeing\", \"therapist\", \"spectrum\", \"objectively\", \"topic\", \"female\", \"john\", \"gusto\", \"stress\", \"doerr\", \"notable\", \"certified\", \"synthesis\", \"marvel\", \"import\", \"assemble\", \"monetization\", \"title\", \"hunt\", \"enix\", \"upcoming\", \"aaa\", \"correlation\", \"plenty\", \"understandable\", \"avengers\", \"posture\", \"hire\", \"flag\", \"tprm\", \"supplier\", \"projects\", \"iso27001\", \"grc\", \"certification\", \"continual\", \"adherence\", \"commonly\", \"is027001\", \"exception\", \"location\", \"technique\", \"information\", \"responsibility\", \"look\", \"scientist\", \"model\", \"visualization\", \"business\", \"position\", \"time\", \"include\", \"problem\"], \"Total\": [71.0, 43.0, 395.0, 41.0, 93.0, 116.0, 52.0, 29.0, 70.0, 20.0, 20.0, 36.0, 103.0, 76.0, 21.0, 36.0, 178.0, 69.0, 28.0, 352.0, 16.0, 50.0, 58.0, 48.0, 62.0, 84.0, 17.0, 249.0, 53.0, 102.0, 24.58886567492871, 23.63380055902114, 23.63300254308338, 17.901293539565085, 16.945912205250146, 16.945884467773155, 15.990482149606644, 15.035086696537338, 15.033991260191502, 14.07955574635173, 13.12399787316667, 12.168849255202547, 12.168794023684221, 11.212220803992349, 10.25759810956944, 11.200222022148992, 9.302611423476229, 9.302611423476229, 9.302611368580626, 9.302611135338307, 9.30233142828209, 9.302323618838209, 8.34719891375354, 8.347198591017097, 8.347198453767936, 8.347198446777444, 8.347197548799231, 8.347192244013529, 8.347177705849147, 8.347162501024052, 22.531376907474957, 19.692745645647598, 19.633822157152327, 17.760016301632692, 12.117841862331503, 13.04859005866739, 153.3764418669736, 58.57219753915723, 63.04924387927934, 40.78913169253353, 15.806233515529788, 250.39469861136766, 45.23685437393428, 32.508766288517684, 40.72991218282052, 395.67127040936475, 72.52722934912124, 37.82867166558176, 56.19252897456961, 352.22993957800367, 249.68981031864104, 101.13307160202832, 178.80466752678578, 65.76862622008606, 74.1861237413184, 98.30712455998207, 78.41825174873473, 116.21844042805162, 85.02202159279499, 75.14249270024447, 76.34733466979779, 46.80576202652088, 109.14643228007616, 68.67953178427486, 68.68325623173604, 85.31633126770254, 64.16541926394115, 79.88311362927811, 69.38639227179524, 81.39339050510284, 70.23902785625397, 66.44459182078427, 63.082455410953116, 102.22978630376019, 21.68047489532203, 17.485087009614606, 12.450898592437039, 9.933572138990298, 7.4163740140999135, 7.4163740140999135, 7.416360304036349, 6.577459656524328, 6.5773260016672825, 5.73831141859387, 5.738401306303672, 5.739002233871114, 5.739096643779146, 4.899195732451889, 4.899195487808069, 4.89919986131829, 4.8992071612425905, 4.899229672016206, 4.899198252461022, 4.899436856836006, 4.899716923848884, 4.900136773402084, 4.899230368530503, 4.899291190072023, 17.51214870812884, 4.060136337504501, 4.060136337504501, 4.060136337504501, 4.060136337504501, 4.060136337504501, 4.060136337504501, 4.060136337504501, 4.060136337504501, 4.060136337504501, 4.060136337504501, 4.060136337504501, 4.060136337504501, 4.060136337504501, 4.060136337504501, 4.060136337504501, 4.060136337504501, 4.060136337504501, 4.060136337504501, 4.060136337504501, 4.060136337504501, 4.060136337504501, 4.060136337504501, 4.060136337504501, 4.060136337504501, 4.060136337504501, 8.371726620161597, 4.060136337504501, 4.060136337504501, 4.060136337504501, 4.060136337504501, 4.060136337504501, 4.060136337504501, 15.750673744827077, 11.76879242108299, 13.618736976496827, 13.432840967143477, 36.73652594883823, 21.56527487017539, 10.166217941844799, 11.960673237430468, 48.5104515657717, 13.781000291499398, 103.2322160622058, 395.67127040936475, 14.697442802742604, 38.26378262597537, 79.88311362927811, 49.850855087638024, 17.19147574239817, 29.536759600717925, 50.69512403578344, 352.22993957800367, 70.75448411789569, 102.22978630376019, 68.87373345415548, 59.790477803690095, 249.68981031864104, 68.68325623173604, 35.08100241335332, 178.80466752678578, 109.14643228007616, 69.38639227179524, 75.14249270024447, 60.05525930640665, 98.30712455998207, 101.13307160202832, 72.52722934912124, 250.39469861136766, 69.48661061958148, 62.1670522088601, 14.344137835445377, 14.344135471278554, 12.639105247802148, 12.639105247802148, 12.639105247802148, 12.639105247802148, 12.639105247802148, 9.227755921893344, 13.4640414829605, 4.966473485927447, 4.966473355679337, 4.966473355679337, 4.966473355679337, 4.966473355679337, 4.966464412407046, 4.966464412407046, 13.594462861846202, 14.457302760661817, 12.608936170060357, 4.11395855437446, 4.11395855437446, 4.11395855437446, 4.11395855437446, 4.11395855437446, 4.113958535368281, 4.11395837010525, 4.11395837010525, 4.114063007443024, 29.971930849609237, 14.317350558040257, 43.941382073017316, 14.5497968937368, 18.915263976315025, 19.772457272560445, 9.349297071033098, 41.74822305137301, 16.81295633242537, 17.182691135411886, 36.786773527873486, 71.95749122773476, 20.71697432550171, 17.34687118755549, 28.073582706961055, 93.80682681814699, 21.834014788704003, 70.75448411789569, 62.79015082124023, 58.952576055364176, 37.90522594737757, 53.681671569859944, 84.44767800954759, 352.22993957800367, 102.22978630376019, 52.496229572901804, 250.39469861136766, 395.67127040936475, 249.68981031864104, 49.46466571863142, 33.51477706650458, 24.833826797542034, 36.16793636283473, 40.084516061185845, 32.06983938743875, 37.25941010418878, 81.39339050510284, 52.92013665084698, 85.31633126770254, 20.501682203241298, 20.501682203241298, 13.077513517792392, 11.427698197749011, 10.602790586936598, 10.60280943773179, 7.3031599029778445, 7.3031599029778445, 7.3031599029778445, 6.479015368766179, 5.653344722254068, 5.6533862086865305, 5.653425646054386, 5.653585092243186, 4.828437076964366, 4.828437076964366, 4.828436988325272, 4.828440178328273, 4.828471934867979, 4.828471934867979, 4.831183649768143, 11.557869674315608, 4.00352943064599, 4.00352943064599, 4.003529318177929, 4.003529318177929, 4.003529318177929, 4.003529318177929, 4.003529318177929, 4.003529318177929, 4.003529318177929, 4.003529318177929, 4.003529318177929, 4.003529318177929, 4.003529318177929, 4.003529318177929, 4.003529318177929, 4.003529318177929, 4.003529318177929, 4.003529318177929, 4.003529318177929, 4.003529318177929, 4.003529318177929, 4.003529318177929, 4.003529318177929, 4.003529318177929, 4.003529318177929, 4.003529318177929, 8.258513996363247, 4.003529318177929, 8.263829751753764, 4.003529318177929, 4.003529318177929, 4.003529318177929, 4.003529318177929, 4.003529318177929, 9.81980245035478, 4.003529318177929, 4.003529318177929, 4.003529318177929, 4.003529318177929, 14.441039573520664, 20.445104485196275, 18.12929731467346, 36.86262657939988, 10.162031251832321, 76.88191974948055, 52.496229572901804, 116.21844042805162, 23.592912131554346, 42.60717961562184, 18.418809536772972, 352.22993957800367, 249.68981031864104, 178.80466752678578, 250.39469861136766, 58.55518352319277, 39.180570965546906, 85.02202159279499, 69.48661061958148, 109.14643228007616, 66.44459182078427, 395.67127040936475, 27.297057934004375, 81.39339050510284, 84.44767800954759, 103.2322160622058, 68.67953178427486, 58.952576055364176, 65.76862622008606, 60.05525930640665, 63.082455410953116, 56.561589584274444, 64.16541926394115, 0.7521170913904589, 0.7521170913904589, 0.7521170913904589, 0.7521170913904589, 0.7521170913904589, 0.7521170913904589, 0.7521170913904589, 0.7521170913904589, 0.7521170913904589, 1.812386438015141, 1.8124184249776183, 6.292905981080984, 1.5288064521431657, 1.5288064521431657, 1.5288064521431657, 1.5288064521431657, 1.5288064521431657, 1.5288064521431657, 1.5288064521431657, 1.5288064521431657, 1.5288064521431657, 1.5288064521431657, 1.5288064521431657, 1.5288064521431657, 1.5288064521431657, 1.5288064521431657, 1.5288064521431657, 1.5288064521431657, 1.5288064521431657, 1.5288064521431657, 8.55358526967263, 1.5288064521431657, 1.5288064521431657, 1.5288064521431657, 1.5288064521431657, 1.5288064521431657, 1.5288064521431657, 1.5288064521431657, 1.5288064521431657, 1.5288064521431657, 1.5288064521431657, 1.5288064521431657, 1.5288064521431657, 1.5288064521431657, 1.5288064521431657, 1.5288064521431657, 1.5288064521431657, 1.5288064521431657, 1.5288064521431657, 1.5288064521431657, 1.5288064521431657, 1.5288064521431657, 1.5288064521431657, 1.5288064521431657, 1.5288064521431657, 1.5288064521431657, 1.5288064521431657, 1.5288064521431657, 1.5288064521431657, 1.5288064521431657, 1.5288064521431657, 1.5288064521431657, 1.5288064521431657, 1.5288064521431657, 1.5288064521431657, 1.5288064521431657, 1.5288064521431657, 1.5288064521431657, 1.5288064521431657, 1.5288064521431657, 1.5288064521431657, 1.5288064521431657, 1.5288064521431657, 1.5288064521431657, 1.5288064521431657, 1.5288064521431657, 1.5288064521431657, 16.81295633242537, 6.271941231764533, 1.5288064521431657, 1.5288064521431657, 7.953749408063098, 1.5288064521431657, 1.5288064521431657, 1.5288271650849758, 1.5288271650849732, 1.528827165084971, 1.528827165084974, 1.5288271650849705, 1.5288271650849712, 1.5288271650849745, 1.5288271650849763, 1.528827165084975, 1.528827165084974, 1.5288271650849719, 1.5288271650849754, 1.528827165084974, 1.5288271650849763, 1.52882716508497, 1.5288271650849794, 1.5288271650849787, 1.528827165084972, 1.5288271650849772, 1.5288271650849732, 1.5288271650849812, 1.5288271650849723, 1.5288271650849723, 1.5288271650849723, 1.5288271650849745, 1.5288271650849767, 1.5288271650849767, 1.528827165084978, 1.5288271650849798, 1.5288271650849807, 1.5288271650849852, 1.528827165084986, 1.5290325675979566, 1.5290325675979566, 1.5290325675979566, 1.5290325675979566, 1.5290325675979566, 1.5290325675979566, 1.5290325675979566, 1.5290325675979566, 1.5290325675979566, 1.5290325675979566, 1.5290325675979566, 1.5290325675979566, 1.5290325675979566, 1.5291473287347828, 26.101658045096006, 1.529147328734804, 1.529147328734865, 1.5291473287348614, 1.529147328734841, 1.5291473287350772, 1.5291473287351047, 1.5291473287350328, 1.5291473287352788, 1.5291473287353663, 1.5291473287353499, 1.5291473287353587, 1.5291473287354072, 23.905167042961835, 27.065116761397768, 31.499763636787467, 31.79315725586377, 47.31501480554745, 52.92013665084698, 76.88191974948055, 37.82867166558176, 98.30712455998207, 64.16541926394115, 81.39339050510284, 85.31633126770254, 63.04924387927934], \"loglift\": [30.0, 29.0, 28.0, 27.0, 26.0, 25.0, 24.0, 23.0, 22.0, 21.0, 20.0, 19.0, 18.0, 17.0, 16.0, 15.0, 14.0, 13.0, 12.0, 11.0, 10.0, 9.0, 8.0, 7.0, 6.0, 5.0, 4.0, 3.0, 2.0, 1.0, 0.6664, 0.6656, 0.6653, 0.6585, 0.6568, 0.6568, 0.6549, 0.6528, 0.6523, 0.6504, 0.6475, 0.6445, 0.6445, 0.6399, 0.636, 0.6328, 0.6308, 0.6308, 0.6308, 0.6308, 0.6306, 0.6306, 0.6241, 0.6241, 0.6241, 0.6241, 0.6241, 0.6241, 0.6241, 0.6241, 0.6214, 0.6152, 0.6003, 0.5974, 0.6126, 0.603, 0.4746, 0.5131, 0.4625, 0.4906, 0.5745, 0.264, 0.4553, 0.4891, 0.4546, 0.1562, 0.3745, 0.4588, 0.398, 0.1225, 0.1446, 0.2896, 0.191, 0.3449, 0.3162, 0.253, 0.2804, 0.1885, 0.236, 0.235, 0.2222, 0.3638, 0.0767, 0.2264, 0.1957, 0.0919, 0.2097, 0.1002, 0.16, 0.0537, 0.1278, 0.1585, 0.1898, -0.2611, 1.6895, 1.6835, 1.6705, 1.6591, 1.6396, 1.6396, 1.6391, 1.6293, 1.6292, 1.6164, 1.6162, 1.6154, 1.6152, 1.5987, 1.5987, 1.5987, 1.5987, 1.5987, 1.5986, 1.5983, 1.5978, 1.597, 1.5959, 1.5957, 1.577, 1.573, 1.573, 1.573, 1.573, 1.573, 1.573, 1.573, 1.573, 1.573, 1.573, 1.573, 1.573, 1.573, 1.573, 1.573, 1.573, 1.573, 1.573, 1.573, 1.573, 1.573, 1.573, 1.573, 1.573, 1.573, 1.5185, 1.573, 1.573, 1.573, 1.573, 1.573, 1.573, 1.4353, 1.4663, 1.443, 1.443, 1.3098, 1.3571, 1.4393, 1.3799, 1.0152, 1.3115, 0.7475, 0.3191, 1.2289, 0.8992, 0.6338, 0.7983, 1.1675, 0.9442, 0.7032, -0.1325, 0.5489, 0.3185, 0.4976, 0.549, -0.1777, 0.4472, 0.8013, -0.0943, 0.1718, 0.3286, 0.2631, 0.3655, -0.0125, -0.0389, 0.1861, -0.9134, 0.1618, 0.2618, 1.7232, 1.7232, 1.718, 1.718, 1.718, 1.718, 1.718, 1.6965, 1.6548, 1.6475, 1.6475, 1.6475, 1.6475, 1.6475, 1.6475, 1.6475, 1.6452, 1.6448, 1.6398, 1.6222, 1.6222, 1.6222, 1.6222, 1.6222, 1.6222, 1.6222, 1.6222, 1.6218, 1.6054, 1.5933, 1.5796, 1.5773, 1.563, 1.5188, 1.5663, 1.4474, 1.4864, 1.479, 1.3786, 1.2268, 1.4181, 1.4434, 1.3596, 0.954, 1.2867, 0.9289, 0.9517, 0.9026, 1.0319, 0.8535, 0.6145, -0.2249, 0.4148, 0.7635, -0.3283, -0.6979, -0.442, 0.6921, 0.963, 1.1861, 0.8854, 0.7852, 0.9693, 0.802, 0.0476, 0.4639, -0.0064, 1.9122, 1.9122, 1.8967, 1.8905, 1.8866, 1.8866, 1.8622, 1.8622, 1.8622, 1.8488, 1.8386, 1.8385, 1.8384, 1.8381, 1.8205, 1.8205, 1.8205, 1.8204, 1.8204, 1.8204, 1.802, 1.8005, 1.7942, 1.7942, 1.7942, 1.7942, 1.7942, 1.7942, 1.7942, 1.7942, 1.7942, 1.7942, 1.7942, 1.7942, 1.7942, 1.7942, 1.7942, 1.7942, 1.7942, 1.7942, 1.7942, 1.7942, 1.7942, 1.7942, 1.7942, 1.7942, 1.7942, 1.7942, 1.7393, 1.7942, 1.7336, 1.7942, 1.7942, 1.7942, 1.7942, 1.7942, 1.6812, 1.7942, 1.7942, 1.7942, 1.7942, 1.5072, 1.3961, 1.4208, 1.1873, 1.5382, 0.8748, 0.9782, 0.6371, 1.1569, 0.9018, 1.25, -0.0511, 0.0918, 0.2294, 0.0368, 0.7127, 0.9044, 0.5053, 0.5689, 0.2966, 0.5618, -0.6002, 1.0547, 0.3744, 0.2821, 0.0227, 0.2698, 0.3887, 0.287, 0.3595, 0.2451, 0.3366, 0.2055, 3.9733, 3.9733, 3.9733, 3.9733, 3.9733, 3.9733, 3.9733, 3.9733, 3.9733, 2.9926, 2.9925, 1.578, 1.4728, 1.4728, 1.4728, 1.4728, 1.4728, 1.4728, 1.4728, 1.4728, 1.4728, 1.4728, 1.4728, 1.4728, 1.4728, 1.4728, 1.4728, 1.4728, 1.4728, 1.4728, 1.4222, 1.4728, 1.4728, 1.4728, 1.4728, 1.4728, 1.4728, 1.4728, 1.4728, 1.4728, 1.4728, 1.4728, 1.4728, 1.4728, 1.4728, 1.4728, 1.4728, 1.4728, 1.4728, 1.4728, 1.4728, 1.4728, 1.4728, 1.4728, 1.4728, 1.4728, 1.4728, 1.4728, 1.4728, 1.4728, 1.4728, 1.4728, 1.4728, 1.4728, 1.4728, 1.4728, 1.4728, 1.4728, 1.4728, 1.4728, 1.4728, 1.4728, 1.4728, 1.4728, 1.4728, 1.4728, 1.4728, 0.4299, 0.7012, 1.4728, 1.4728, 0.5007, 1.4728, 1.4728, 1.4728, 1.4728, 1.4728, 1.4728, 1.4728, 1.4728, 1.4728, 1.4728, 1.4728, 1.4728, 1.4728, 1.4728, 1.4728, 1.4728, 1.4728, 1.4728, 1.4728, 1.4728, 1.4728, 1.4728, 1.4728, 1.4728, 1.4728, 1.4728, 1.4728, 1.4728, 1.4728, 1.4728, 1.4728, 1.4728, 1.4728, 1.4728, 1.4726, 1.4726, 1.4726, 1.4726, 1.4726, 1.4726, 1.4726, 1.4726, 1.4726, 1.4726, 1.4726, 1.4726, 1.4726, 1.4726, -1.2833, 1.4726, 1.4726, 1.4726, 1.4726, 1.4726, 1.4726, 1.4726, 1.4726, 1.4726, 1.4726, 1.4726, 1.4726, -1.2492, -1.3839, -1.5379, -1.5494, -1.9484, -2.0622, -2.4359, -1.7269, -2.6825, -2.2577, -2.496, -2.5436, -2.2415], \"logprob\": [30.0, 29.0, 28.0, 27.0, 26.0, 25.0, 24.0, 23.0, 22.0, 21.0, 20.0, 19.0, 18.0, 17.0, 16.0, 15.0, 14.0, 13.0, 12.0, 11.0, 10.0, 9.0, 8.0, 7.0, 6.0, 5.0, 4.0, 3.0, 2.0, 1.0, -6.0944, -6.1348, -6.1351, -6.4197, -6.4762, -6.4762, -6.5361, -6.5998, -6.6005, -6.668, -6.7411, -6.8197, -6.8197, -6.9062, -6.9991, -6.9143, -7.1019, -7.1019, -7.1019, -7.1019, -7.1022, -7.1022, -7.217, -7.217, -7.217, -7.217, -7.217, -7.217, -7.217, -7.217, -6.2268, -6.3676, -6.3855, -6.4888, -6.8558, -6.7914, -4.4556, -5.3797, -5.3566, -5.7641, -6.6282, -4.1761, -5.6959, -5.9925, -5.8015, -3.8263, -5.3046, -5.8712, -5.5363, -3.9763, -4.2982, -5.0571, -4.5858, -5.4321, -5.3403, -5.1219, -5.3206, -5.0191, -5.2842, -5.4087, -5.4056, -5.7533, -5.1937, -5.5073, -5.5379, -5.4248, -5.5919, -5.4823, -5.5634, -5.5101, -5.5834, -5.6082, -5.6288, -5.597, -5.1971, -5.4183, -5.7708, -6.008, -6.3198, -6.3198, -6.3202, -6.4501, -6.4503, -6.5995, -6.5997, -6.6004, -6.6006, -6.7753, -6.7753, -6.7753, -6.7753, -6.7753, -6.7754, -6.7757, -6.7761, -6.7768, -6.7781, -6.7782, -5.5231, -6.9889, -6.9889, -6.9889, -6.9889, -6.9889, -6.9889, -6.9889, -6.9889, -6.9889, -6.9889, -6.9889, -6.9889, -6.9889, -6.9889, -6.9889, -6.9889, -6.9889, -6.9889, -6.9889, -6.9889, -6.9889, -6.9889, -6.9889, -6.9889, -6.9889, -6.3197, -6.9889, -6.9889, -6.9889, -6.9889, -6.9889, -6.9889, -5.7709, -6.0313, -5.9086, -5.9224, -5.0495, -5.5349, -6.2047, -6.1015, -5.0661, -6.0283, -4.5786, -3.6634, -6.0465, -5.4194, -4.9488, -5.2558, -5.9512, -5.6333, -5.334, -4.2313, -5.155, -5.0174, -5.2332, -5.3232, -4.6205, -5.2864, -5.6041, -4.8711, -5.0986, -5.3948, -5.3806, -5.5023, -5.3875, -5.3855, -5.493, -5.3535, -5.5601, -5.5715, -5.5765, -5.5765, -5.7083, -5.7083, -5.7083, -5.7083, -5.7083, -6.0443, -5.7083, -6.7129, -6.7129, -6.7129, -6.7129, -6.7129, -6.7129, -6.7129, -5.7083, -5.6471, -5.7889, -6.9265, -6.9265, -6.9265, -6.9265, -6.9265, -6.9265, -6.9265, -6.9265, -6.9269, -4.9574, -5.7083, -4.6006, -5.7082, -5.4601, -5.46, -6.1615, -4.7841, -5.6545, -5.6402, -4.9793, -4.4602, -5.514, -5.6663, -5.2686, -4.4679, -5.5929, -4.7749, -4.8715, -4.9838, -5.2961, -5.1266, -4.9125, -4.3237, -4.921, -5.2389, -4.7683, -4.6804, -4.8848, -5.3697, -5.4881, -5.5648, -5.4895, -5.4868, -5.5258, -5.5432, -5.5162, -5.5304, -5.5231, -5.0304, -5.0304, -5.4955, -5.6365, -5.7153, -5.7153, -6.1126, -6.1126, -6.1126, -6.2457, -6.3922, -6.3923, -6.3924, -6.3927, -6.5681, -6.5681, -6.5681, -6.5681, -6.5681, -6.5681, -6.586, -5.7152, -6.7817, -6.7817, -6.7817, -6.7817, -6.7817, -6.7817, -6.7817, -6.7817, -6.7817, -6.7817, -6.7817, -6.7817, -6.7817, -6.7817, -6.7817, -6.7817, -6.7817, -6.7817, -6.7817, -6.7817, -6.7817, -6.7817, -6.7817, -6.7817, -6.7817, -6.7817, -6.1126, -6.7817, -6.1175, -6.7817, -6.7817, -6.7817, -6.7817, -6.7817, -5.9975, -6.7817, -6.7817, -6.7817, -6.7817, -5.7858, -5.5492, -5.6447, -5.1686, -6.1062, -4.7461, -5.0242, -4.5705, -5.6453, -5.3093, -5.7997, -4.1499, -4.351, -4.5474, -4.4032, -5.1805, -5.3905, -5.0148, -5.153, -4.9738, -5.2049, -4.5827, -5.6016, -5.1894, -5.2448, -5.3034, -5.4638, -5.4976, -5.4899, -5.5083, -5.5735, -5.5912, -5.5961, -6.2746, -6.2746, -6.2746, -6.2746, -6.2746, -6.2746, -6.2746, -6.2746, -6.2746, -6.3759, -6.3759, -6.5456, -8.0658, -8.0658, -8.0658, -8.0658, -8.0658, -8.0658, -8.0658, -8.0658, -8.0658, -8.0658, -8.0658, -8.0658, -8.0658, -8.0658, -8.0658, -8.0658, -8.0658, -8.0658, -6.3945, -8.0658, -8.0658, -8.0658, -8.0658, -8.0658, -8.0658, -8.0658, -8.0658, -8.0658, -8.0658, -8.0658, -8.0658, -8.0658, -8.0658, -8.0658, -8.0658, -8.0658, -8.0658, -8.0658, -8.0658, -8.0658, -8.0658, -8.0658, -8.0658, -8.0658, -8.0658, -8.0658, -8.0658, -8.0658, -8.0658, -8.0658, -8.0658, -8.0658, -8.0658, -8.0658, -8.0658, -8.0658, -8.0658, -8.0658, -8.0658, -8.0658, -8.0658, -8.0658, -8.0658, -8.0658, -8.0658, -6.7111, -7.4258, -8.0658, -8.0658, -7.3887, -8.0658, -8.0658, -8.0658, -8.0658, -8.0658, -8.0658, -8.0658, -8.0658, -8.0658, -8.0658, -8.0658, -8.0658, -8.0658, -8.0658, -8.0658, -8.0658, -8.0658, -8.0658, -8.0658, -8.0658, -8.0658, -8.0658, -8.0658, -8.0658, -8.0658, -8.0658, -8.0658, -8.0658, -8.0658, -8.0658, -8.0658, -8.0658, -8.0658, -8.0658, -8.0658, -8.0658, -8.0658, -8.0658, -8.0658, -8.0658, -8.0658, -8.0658, -8.0658, -8.0658, -8.0658, -8.0658, -8.0658, -8.0658, -7.9844, -8.0658, -8.0658, -8.0658, -8.0658, -8.0658, -8.0658, -8.0658, -8.0658, -8.0658, -8.0658, -8.0658, -8.0658, -8.0382, -8.0488, -8.051, -8.0533, -8.0547, -8.0565, -8.0567, -8.0569, -8.0575, -8.0593, -8.0598, -8.0603, -8.0606]}, \"token.table\": {\"Topic\": [2, 2, 4, 4, 4, 4, 4, 1, 2, 3, 4, 1, 2, 3, 1, 1, 2, 4, 4, 2, 2, 1, 2, 3, 4, 1, 3, 1, 2, 4, 2, 1, 2, 3, 3, 1, 2, 3, 4, 1, 2, 3, 4, 1, 3, 4, 4, 4, 1, 2, 3, 4, 3, 2, 4, 4, 4, 4, 4, 4, 1, 2, 3, 4, 1, 2, 1, 2, 3, 4, 4, 1, 2, 3, 1, 1, 4, 1, 1, 2, 4, 4, 1, 2, 3, 4, 1, 2, 3, 4, 1, 2, 3, 4, 3, 4, 2, 3, 2, 1, 3, 4, 4, 4, 4, 4, 4, 1, 1, 3, 4, 1, 1, 4, 1, 2, 3, 1, 2, 4, 4, 1, 2, 3, 4, 1, 4, 4, 2, 1, 3, 1, 3, 3, 2, 1, 3, 1, 2, 3, 1, 4, 2, 4, 3, 4, 4, 1, 4, 2, 1, 2, 3, 4, 1, 2, 4, 1, 2, 3, 4, 1, 2, 3, 4, 1, 2, 3, 4, 4, 1, 2, 4, 4, 2, 1, 2, 3, 4, 1, 2, 3, 4, 1, 4, 4, 4, 4, 1, 2, 3, 4, 4, 4, 2, 4, 4, 2, 3, 4, 1, 2, 2, 4, 4, 1, 2, 3, 4, 1, 2, 3, 4, 4, 4, 1, 2, 3, 4, 4, 1, 2, 3, 4, 3, 4, 4, 1, 4, 1, 2, 3, 4, 1, 1, 2, 2, 1, 4, 2, 4, 4, 4, 1, 2, 4, 4, 4, 4, 2, 4, 2, 2, 3, 1, 3, 4, 4, 1, 3, 4, 2, 4, 1, 4, 2, 4, 1, 4, 4, 3, 1, 2, 3, 4, 2, 3, 4, 4, 2, 4, 4, 4, 2, 1, 2, 3, 4, 3, 2, 1, 2, 3, 4, 4, 1, 3, 4, 1, 4, 4, 4, 3, 1, 3, 4, 2, 4, 2, 4, 1, 2, 3, 4, 2, 1, 2, 4, 1, 2, 3, 4, 1, 2, 3, 1, 2, 3, 4, 4, 1, 1, 1, 3, 2, 3, 2, 4, 4, 2, 1, 4, 4, 1, 2, 3, 4, 4, 1, 2, 3, 4, 1, 4, 1, 2, 3, 4, 1, 2, 3, 1, 2, 3, 4, 4, 1, 4, 1, 2, 3, 4, 4, 4, 1, 2, 3, 4, 2, 1, 2, 3, 4, 4, 1, 4, 1, 3, 4, 4, 1, 3, 1, 4, 2, 3, 1, 2, 3, 4, 4, 4, 4, 1, 4, 4, 4, 1, 2, 3, 4, 4, 3, 4, 4, 4, 4, 4, 4, 4, 4, 4, 4, 4, 3, 4, 1, 2, 3, 4, 2, 4, 4, 1, 2, 3, 4, 4, 2, 4, 4, 4, 4, 4, 2, 1, 2, 3, 4, 4, 4, 4, 2, 4, 4, 4, 1, 2, 4, 1, 2, 3, 4, 4, 1, 3, 4, 4, 4, 1, 2, 3, 4, 4, 4, 1, 2, 2, 1, 2, 3, 4, 3, 1, 2, 4, 4, 2, 3, 1, 2, 3, 4, 4, 1, 2, 3, 4, 4, 1, 2, 3, 4, 2, 1, 3, 1, 3, 4, 1, 2, 3, 4, 4, 4, 3, 1, 2, 3, 4, 4, 4, 3, 1, 2, 3, 4, 1, 2, 4, 3, 2, 4, 2, 1, 2, 3, 1, 2, 3, 4, 1, 2, 3, 4, 1, 3, 4, 1, 1, 2, 3, 4, 2, 1, 4, 1, 2, 3, 4, 1, 4, 2, 4, 1, 1, 2, 3, 4, 4, 1, 2, 3, 4, 1, 2, 3, 1, 4, 4, 1, 1, 2, 1, 2, 3, 4, 4, 1, 2, 3, 4, 4, 1, 2, 4, 1, 2, 3, 4, 2, 2, 4, 4, 2, 2, 1, 2, 3, 4, 4, 4, 4, 4, 1, 2, 4, 1, 2, 3, 4, 4, 4, 4, 4, 1, 4, 1, 3, 3, 4, 1, 2, 3, 4, 4, 1, 2, 3, 4, 1, 2, 3, 4, 1, 2, 4, 4, 4, 1, 2, 4, 3, 1, 1, 2, 3, 4, 4, 1, 3, 4, 1, 2, 3, 4, 4, 4, 4, 1, 2, 1, 2, 4, 2, 4, 3, 1, 4, 4, 1, 4, 4, 2, 1, 2, 3, 4, 4, 2, 1, 2, 4, 4, 4, 1, 3, 4, 2, 4, 4, 4, 1, 4, 4, 4, 1, 2, 3, 4, 4, 1, 2, 3, 4, 4], \"Freq\": [0.9851885915876749, 0.9851885915876749, 0.6541050363819073, 0.6541050363819073, 0.7493388362059875, 0.7493388362059875, 0.6540083064227705, 0.7264062911898553, 0.08545956366939475, 0.1281893455040921, 0.06409467275204606, 0.19307838766185906, 0.09653919383092953, 0.7240439537319714, 0.958407773491408, 0.2769883691292189, 0.06924709228230473, 0.6232238305407426, 0.6541050363819073, 0.9851885915876749, 0.8164598532878937, 0.7543612065421009, 0.12572686775701683, 0.12572686775701683, 0.6539592236851494, 0.06916919542703294, 0.8991995405514283, 0.2782250648841928, 0.6955626622104819, 0.6541050363819073, 0.9851885915876749, 0.8305452061875563, 0.061521867125004175, 0.12304373425000835, 0.805400475052556, 0.2544418073590718, 0.10177672294362872, 0.4240696789317863, 0.2205162330445289, 0.672381436881387, 0.17798332152742596, 0.0494398115353961, 0.10876758537787143, 0.7474303215469701, 0.1601636403314936, 0.08897980018416311, 0.6541050363819073, 0.6541050363819073, 0.4030157181025018, 0.013897093727672475, 0.583677936562244, 0.6540961743994231, 0.9494342965524966, 0.9851885915876749, 0.7493388362059875, 0.6540083064227705, 0.7493388362059875, 0.8284194366161038, 0.6540083064227705, 0.6540961743994269, 0.3870831849390791, 0.13824399462109968, 0.414731983863299, 0.05529759784843987, 0.9943495556404651, 0.9438574681767251, 0.24414972114411168, 0.10851098717516075, 0.1627664807627411, 0.46117169549443315, 0.8284248851116347, 0.7856633683953114, 0.1473118815741209, 0.07365594078706045, 0.9861244681677391, 0.9731824529263359, 0.7493388362059875, 0.9441820537858622, 0.1967299945211555, 0.786919978084622, 0.6541050363819073, 0.6541050363819073, 0.5508047696312313, 0.3379938359100737, 0.03755487065667486, 0.0625914510944581, 0.11691004046520398, 0.58455020232602, 0.11691004046520398, 0.11691004046520398, 0.6510209741812804, 0.1729274462669026, 0.12206643265899007, 0.05086101360791253, 0.9722995420618455, 0.6541050363819073, 0.8565482311737825, 0.11420643082317102, 0.9851885915876749, 0.13654554583717488, 0.8420308659959117, 0.02275759097286248, 0.8843945776742769, 0.653959223685292, 0.6540961743994205, 0.8284194366161038, 0.7493388362059875, 0.9496520439948619, 0.9441805083259498, 0.891262851142183, 0.07427190426184858, 0.5517489704466831, 0.9810723666878927, 0.6540961743994242, 0.2326734516534303, 0.5816836291335757, 0.17450508874007273, 0.11944967213713165, 0.8361477049599215, 0.7493388362059875, 0.6539592236851564, 0.3912753948359641, 0.24454712177247753, 0.26411089151427575, 0.10760073357989011, 0.8857265069660558, 0.06326617906900399, 0.6541050363819073, 0.8163736930454897, 0.1069599128578658, 0.8556793028629264, 0.4429442183710785, 0.5637471870177363, 0.9722995375698946, 0.9851885915876749, 0.15860206887709768, 0.8458777006778543, 0.1633251878077967, 0.6805216158658195, 0.1633251878077967, 0.9861289439729446, 0.6539592236851868, 0.8164547692415978, 0.8844256902734523, 0.9494342965524966, 0.6540083064227705, 0.6541050363819073, 0.2952165689767062, 0.6888386609456477, 0.9851885915876749, 0.3539383078873371, 0.2235399839288445, 0.40982330386954824, 0.018628331994070373, 0.532476683926404, 0.21586892591610973, 0.2590427110993317, 0.6549659434065772, 0.07188650598364872, 0.12380453808295058, 0.1477667067441668, 0.3811368925688018, 0.40119672901979136, 0.0601795093529687, 0.16047869160791656, 0.5888726764491551, 0.24768035318462317, 0.08592991845180804, 0.07834786682370733, 0.7493388362059875, 0.7958113024928496, 0.08842347805476107, 0.11052934756845134, 0.6540961743994238, 0.8164601214067371, 0.6109185404527485, 0.06883589188199983, 0.051626918911499876, 0.2753435675279993, 0.6351295698263674, 0.08233161090341799, 0.04704663480195314, 0.2352331740097657, 0.958405375500382, 0.6540961743994248, 0.6540961743994251, 0.6540961743994227, 0.6541050363819073, 0.435579697737294, 0.290386465158196, 0.1016352628053686, 0.1597125558370078, 0.7493388362059875, 0.6540961743994251, 0.7618721709565666, 0.19046804273914164, 0.6541050363819073, 0.10183504251288385, 0.10183504251288385, 0.8146803401030708, 0.9674703015168761, 0.9851885915876749, 0.8712315828159842, 0.6541050363819073, 0.6541050363819073, 0.22858784521535083, 0.019048987101279235, 0.3619307549243055, 0.3809797420255847, 0.21105269260513326, 0.10552634630256663, 0.47486855836154984, 0.1846711060294916, 0.7493388362059875, 0.6541050363819073, 0.5869552198498202, 0.12040107073842467, 0.030100267684606167, 0.25585227531915244, 0.6540083064227705, 0.9977390395136448, 0.9438574681767251, 0.872397151642282, 0.07930883196748019, 0.9722995375698946, 0.6541050363819073, 0.6539592236851318, 0.12100926931460299, 0.8470648852022209, 0.5678109028426548, 0.15898705279594333, 0.13627461668223714, 0.13627461668223714, 0.9821233881120354, 0.9009000739784855, 0.05630625462365534, 0.9438592130145369, 0.9584053920616341, 0.6541050363819073, 0.8164605413709669, 0.6541050363819073, 0.654096174399425, 0.6541050363819073, 0.2902546923583871, 0.6530730578063709, 0.8844321805316039, 0.6539592236853898, 0.7493388362059875, 0.9584892146679916, 0.8163037451754364, 0.7493388362059875, 0.9851885915876749, 0.9851885915876749, 0.9494342965524966, 0.1745943040212884, 0.756575317425583, 0.058198101340429464, 0.6540961743994256, 0.10009365145853168, 0.8674783126406078, 0.03336455048617722, 0.9851885915876749, 0.6541050363819073, 0.967470271550572, 0.6541050363819073, 0.8164203594988565, 0.9940727633210295, 0.38611535121851365, 0.60675269477195, 0.6541050363819073, 0.9753183846840833, 0.31637528868305287, 0.26642129573309714, 0.21646730278314144, 0.19981597179982286, 0.9722571006167788, 0.8054004539305486, 0.8844195206652409, 0.8284254172190221, 0.9851885915876749, 0.6539592236852612, 0.975529705403297, 0.654096174399424, 0.9060184870127503, 0.3789328582413137, 0.10657486638036948, 0.31972459914110846, 0.18946642912065684, 0.9722995375698946, 0.9851885915876749, 0.5694839638421685, 0.09965969367237948, 0.19931938734475896, 0.1281338918644879, 0.6541050363819073, 0.30649393943397574, 0.4980526515802105, 0.19155871214623482, 0.08652113479201472, 0.8652113479201472, 0.7493388362059875, 0.6540083064227705, 0.9722995375698946, 0.4762417998097039, 0.10990195380223935, 0.40297383060821096, 0.9637858593827979, 0.8284254172190221, 0.9851885915876749, 0.6540083064227705, 0.5508910111538327, 0.15237410946808136, 0.1758162801554785, 0.12893193878068424, 0.9851885915876749, 0.4965531031190275, 0.4442843554222878, 0.05226874769673974, 0.6031791291859272, 0.15873134978577033, 0.06349253991430813, 0.15873134978577033, 0.6312244147467244, 0.3550637332950325, 0.9722995375698946, 0.4294217207212641, 0.10735543018031603, 0.3757440056311061, 0.053677715090158014, 0.6540961743994246, 0.9760515315056144, 0.9732153143922613, 0.32058608599921884, 0.6767928482205732, 0.9686134690956952, 0.9760084684493907, 0.9851885915876749, 0.6539592236851526, 0.6539592236852729, 0.9851885915876749, 0.9380580184925188, 0.6541050363819073, 0.654096174399424, 0.47399848786992965, 0.12473644417629728, 0.3742093325288918, 0.049894577670518914, 0.6541050363819073, 0.6115027490585592, 0.2766321960026815, 0.04367876778989708, 0.07279794631649514, 0.9584053384445571, 0.7493388362059875, 0.41228228875345535, 0.49473874650414645, 0.06184234331301831, 0.02061411443767277, 0.46772918999635726, 0.09354583799927145, 0.46772918999635726, 0.6874600993823762, 0.14827570770992426, 0.14827570770992426, 0.013479609791811297, 0.6541050363819073, 0.9905518216045892, 0.7493388362059875, 0.46015156389541406, 0.20915980177064278, 0.2928237224788999, 0.041831960354128554, 0.6541050363819073, 0.9584892146679916, 0.5072385604999561, 0.2747542202708096, 0.14794458014582054, 0.06340482006249451, 0.9122248157502096, 0.6287056412329257, 0.15717641030823143, 0.18337247869293666, 0.02619606838470524, 0.7493388362059875, 0.9674993918876181, 0.6541050363819073, 0.07355936090763608, 0.8827123308916329, 0.6540961743994265, 0.6540083064227705, 0.2305891337262923, 0.74941468461045, 0.9675002041182517, 0.7493388362059875, 0.9851885915876749, 0.805400475052556, 0.377201819289846, 0.19510438928785137, 0.0910487150009973, 0.35118790071813244, 0.6540083064227705, 0.7493388362059875, 0.6541050363819073, 0.9748870927854814, 0.7493388362059875, 0.6541050363819073, 0.6541050363819073, 0.5908939585646394, 0.24500481208777733, 0.057648191079477024, 0.10088433438908478, 0.6540961743994229, 0.9722748515915617, 0.6541050363819073, 0.6541050363819073, 0.975529705403297, 0.9584892146679916, 0.6540961743994224, 0.6540961743994259, 0.7493388362059875, 0.6541050363819073, 0.6541050363819073, 0.6541050363819073, 0.9625735480279609, 0.805400475052556, 0.6540961743994245, 0.39442758331147737, 0.08528163963491403, 0.4477286080832986, 0.07462143468054977, 0.9851885915876749, 0.7493388362059875, 0.8279544496703137, 0.5615027922728719, 0.0510457083884429, 0.0510457083884429, 0.3573199587191003, 0.6541050363819073, 0.9851885915876749, 0.6541050363819073, 0.6541050363819073, 0.6541050363819073, 0.7493388362059875, 0.6540961743994261, 0.9122062792203471, 0.24455732195550087, 0.048911464391100175, 0.09782292878220035, 0.586937572693202, 0.6541050363819073, 0.6540961743994267, 0.9260666410708948, 0.9851885915876749, 0.6541050363819073, 0.654096174399426, 0.7493388362059875, 0.5986145935216067, 0.3990763956810711, 0.654096174399425, 0.12715683351304688, 0.2966992781971094, 0.12715683351304688, 0.4662417228811719, 0.6540083064227705, 0.23953115292343255, 0.7425465740626409, 0.023953115292343254, 0.6541050363819073, 0.6541050363819073, 0.6233887420802483, 0.10909302986404344, 0.09350831131203724, 0.17143190407206826, 0.6541050363819073, 0.6539592236853989, 0.22028474484655886, 0.7342824828218629, 0.8164446334820114, 0.3846766382352025, 0.31777635332473253, 0.20070085473141, 0.100350427365705, 0.805400475052556, 0.47672728768222683, 0.15890909589407562, 0.47672728768222683, 0.7493388362059875, 0.13969064959975094, 0.8381438975985056, 0.7930309219208912, 0.047581855315253475, 0.09516371063050695, 0.06344247375367129, 0.6541050363819073, 0.4043290237472842, 0.12129870712418526, 0.3436796701851916, 0.14151515831154948, 0.9431462537102104, 0.540558209439247, 0.21072608164580817, 0.04581001774908873, 0.19240207454617267, 0.9851885915876749, 0.2379117581056, 0.7732132138432, 0.8090390413003242, 0.049032669169716624, 0.12258167292429155, 0.6023861904621105, 0.17437494987061095, 0.031704536340111084, 0.1902272180406665, 0.6539592236853741, 0.6541050363819073, 0.9494342965524966, 0.49525931360993114, 0.11954535156101787, 0.08538953682929848, 0.2903244252196148, 0.6541050363819073, 0.6541050363819073, 0.9722995811203762, 0.30470505639966156, 0.4739856432883624, 0.2369928216441812, 0.6540961743994251, 0.10858465070758344, 0.38004627747654207, 0.4886309281841255, 0.9722995811203762, 0.9851885915876749, 0.7493388362059875, 0.8713228185187165, 0.08497048500987817, 0.7647343650889035, 0.08497048500987817, 0.565754962602692, 0.0707193703253365, 0.15911858323200712, 0.19447826839467536, 0.5163449023960681, 0.046940445672369824, 0.07041066850855474, 0.3520533425427737, 0.836574382705072, 0.017072946585817796, 0.13658357268654236, 0.9584053912590026, 0.6919727985160213, 0.09435992707036654, 0.06290661804691103, 0.15726654511727756, 0.9851885915876749, 0.12108715931708346, 0.8476101152195842, 0.2866691633094641, 0.15926064628303563, 0.4459298095924998, 0.11148245239812495, 0.9976663455791434, 0.7493388151553901, 0.8164605821413395, 0.7493388362059875, 0.9584061042487035, 0.8084683572692841, 0.05215924885608284, 0.07171896717711392, 0.06519906107010355, 0.7493388362059875, 0.5290991628524426, 0.0944819933665076, 0.2645495814262213, 0.0944819933665076, 0.9566416167314715, 0.9851885915876749, 0.9494342965524966, 0.932033585263628, 0.04438255167922038, 0.6541050363819073, 0.967470271550572, 0.250822001441492, 0.7524660043244761, 0.19786731787447276, 0.3109343566598858, 0.4381347752934754, 0.056533519392706504, 0.6541050363819073, 0.6631109319628388, 0.07651279984186601, 0.1657777329907097, 0.10201706645582136, 0.6541050363819073, 0.730760025932828, 0.22060680028160845, 0.05515170007040211, 0.5790848805095709, 0.24128536687898783, 0.112599837876861, 0.06434276450106342, 0.9851885915876749, 0.9851885915876749, 0.6540961743994259, 0.7493388362059875, 0.8712172507880165, 0.8164548853154415, 0.20886309302042047, 0.029837584717202922, 0.4475637707580438, 0.29837584717202925, 0.7493388362059875, 0.6541050363819073, 0.6540961743994242, 0.6540961743994235, 0.9196395891086429, 0.07663663242572023, 0.6539592236853653, 0.7146264518696297, 0.060819272499542956, 0.045614454374657214, 0.1976626356235146, 0.7493388362059875, 0.6541050363819073, 0.65409617439942, 0.6541050363819073, 0.9584095192849713, 0.6541050363819073, 0.13745896348978814, 0.824753780938729, 0.8054019253631097, 0.6541050363819073, 0.609603773255367, 0.1621881598569325, 0.04474156133984345, 0.1789662453593738, 0.6541050363819073, 0.10873473306837263, 0.19028578286965211, 0.679592081677329, 0.7493388362059875, 0.6281147851631157, 0.2586354997730476, 0.0738958570780136, 0.0369479285390068, 0.6387863680737841, 0.23954488802766902, 0.133080493348705, 0.6541050363819073, 0.6541050363819073, 0.9140421718684149, 0.05078012065935638, 0.6540961743994221, 0.9760086293128212, 0.9584054951653592, 0.5282984248862833, 0.08600206916753449, 0.18429014821614534, 0.20886216797829804, 0.6540083064227705, 0.15172620977986886, 0.8092064521593006, 0.05057540325995629, 0.6260962892854993, 0.16016416702652309, 0.014560378820593009, 0.1892849246677091, 0.6540961743994259, 0.7493388362059875, 0.6539592236853637, 0.9077523972477037, 0.8164586367451089, 0.3401952344435713, 0.6123514219984284, 0.06803904688871426, 0.9851885915876749, 0.6541050363819073, 0.8054019253631097, 0.9674702772597069, 0.6540083064227705, 0.6541050363819073, 0.551758708311216, 0.6541050363819073, 0.6540083064227705, 0.9851885915876749, 0.07444441592407627, 0.7444441592407628, 0.14888883184815255, 0.9431479305382793, 0.6541050363819073, 0.9851885915876749, 0.7930492581185545, 0.07930492581185546, 0.13217487635309244, 0.6541050363819073, 0.6540961743994265, 0.32060068053180507, 0.6412013610636101, 0.0458000972188293, 0.871336467344467, 0.7493388362059875, 0.7493388151553901, 0.7493388362059875, 0.9167853236076529, 0.05093251797820293, 0.6541050363819073, 0.6540961743994256, 0.5807205340696867, 0.15218882961826272, 0.11213913761345674, 0.15619379881874332, 0.8284254324270238, 0.35841524488541926, 0.37778904190625273, 0.11624278212500083, 0.14530347765625104, 0.6541050363819073], \"Term\": [\"160\", \"225\", \"45\", \"65\", \"85\", \"aa\", \"aaa\", \"ability\", \"ability\", \"ability\", \"ability\", \"account\", \"account\", \"account\", \"achieve\", \"action\", \"action\", \"action\", \"activitycombe\", \"actually\", \"adapt\", \"address\", \"address\", \"address\", \"adherence\", \"agree\", \"agree\", \"ai\", \"ai\", \"aires\", \"akka\", \"algorithm\", \"algorithm\", \"algorithm\", \"allow\", \"amp\", \"amp\", \"amp\", \"amp\", \"analysis\", \"analysis\", \"analysis\", \"analysis\", \"analytic\", \"analytic\", \"analytic\", \"animal\", \"aperture\", \"application\", \"application\", \"application\", \"approachable\", \"approve\", \"architecturestrong\", \"arrangements\", \"assemble\", \"atlantic\", \"attract\", \"avengers\", \"awesome\", \"base\", \"base\", \"base\", \"base\", \"behavioral\", \"belief\", \"benefit\", \"benefit\", \"benefit\", \"benefit\", \"benefits\", \"big\", \"big\", \"big\", \"bioinformatic\", \"bioinformatics\", \"bomber\", \"bring\", \"broad\", \"broad\", \"broadcast\", \"buenos\", \"build\", \"build\", \"build\", \"build\", \"building\", \"building\", \"building\", \"building\", \"business\", \"business\", \"business\", \"business\", \"ca\", \"capabilitiesdemonstrated\", \"capital\", \"capital\", \"capitalgoodwater\", \"career\", \"career\", \"career\", \"carpe\", \"certification\", \"certified\", \"chart\", \"charter\", \"client\", \"clinical\", \"coach\", \"coach\", \"collection\", \"college\", \"combinator\", \"comfortable\", \"comfortable\", \"comfortable\", \"commerce\", \"commerce\", \"commonality\", \"commonly\", \"company\", \"company\", \"company\", \"company\", \"compensation\", \"compensation\", \"computation\", \"compute\", \"condition\", \"condition\", \"connect\", \"connect\", \"conscious\", \"consequence\", \"consider\", \"consider\", \"consumer\", \"consumer\", \"consumer\", \"content\", \"continual\", \"continually\", \"continuous\", \"cookie\", \"correlation\", \"countriesintellectually\", \"country\", \"country\", \"crawler\", \"create\", \"create\", \"create\", \"create\", \"customer\", \"customer\", \"customer\", \"data\", \"data\", \"data\", \"data\", \"database\", \"database\", \"database\", \"database\", \"datum\", \"datum\", \"datum\", \"datum\", \"default\", \"degree\", \"degree\", \"degree\", \"depression\", \"designing\", \"develop\", \"develop\", \"develop\", \"develop\", \"development\", \"development\", \"development\", \"development\", \"dexis\", \"dig\", \"district\", \"doerr\", \"dramatically\", \"drive\", \"drive\", \"drive\", \"drive\", \"dual\", \"ea\", \"early\", \"early\", \"earth\", \"eeo\", \"eeo\", \"eeo\", \"efficiency\", \"elastic\", \"elasticsearch\", \"elevated\", \"eligiblework\", \"employee\", \"employee\", \"employee\", \"employee\", \"employer\", \"employer\", \"employer\", \"employer\", \"en2\", \"enginedistributed\", \"engineering\", \"engineering\", \"engineering\", \"engineering\", \"enix\", \"enterprise\", \"entrepreneur\", \"equinix\", \"equinix\", \"equipment\", \"exact\", \"exception\", \"expect\", \"expect\", \"experience\", \"experience\", \"experience\", \"experience\", \"expert\", \"expertise\", \"expertise\", \"explore\", \"facebook\", \"factor\", \"failure\", \"feed\", \"female\", \"finally\", \"financial\", \"financial\", \"fishing\", \"flag\", \"flexibility\", \"flight\", \"flink\", \"floor\", \"fluid\", \"focusedpeople\", \"foot\", \"forward\", \"forward\", \"forward\", \"founders\", \"free\", \"free\", \"free\", \"frequency\", \"fridaybenefit\", \"fulgent\", \"fw\", \"gathering\", \"gfw\", \"global\", \"global\", \"globalfishing\", \"globe\", \"good\", \"good\", \"good\", \"good\", \"goodwater\", \"gov\", \"governance\", \"gps\", \"grade\", \"grc\", \"grumman\", \"gusto\", \"h2o\", \"health\", \"health\", \"health\", \"health\", \"healthiq\", \"heavily\", \"help\", \"help\", \"help\", \"help\", \"helpfulcombine\", \"hire\", \"hire\", \"hire\", \"history\", \"history\", \"html\", \"hunt\", \"hyper\", \"identify\", \"identify\", \"identify\", \"iehp\", \"imagery\", \"impala\", \"import\", \"include\", \"include\", \"include\", \"include\", \"incubator\", \"industry\", \"industry\", \"industry\", \"information\", \"information\", \"information\", \"information\", \"insight\", \"insight\", \"instead\", \"insurance\", \"insurance\", \"insurance\", \"insurance\", \"integral\", \"intern\", \"internship\", \"interview\", \"interview\", \"investment\", \"iq\", \"irrevocably\", \"is027001\", \"iso27001\", \"iteratively\", \"java\", \"jobgoogle\", \"john\", \"join\", \"join\", \"join\", \"join\", \"journals\", \"knowledge\", \"knowledge\", \"knowledge\", \"knowledge\", \"laboratory\", \"landing\", \"large\", \"large\", \"large\", \"large\", \"lead\", \"lead\", \"lead\", \"learning\", \"learning\", \"learning\", \"learning\", \"levelgfw\", \"leverage\", \"lifecycle\", \"location\", \"location\", \"location\", \"location\", \"locationsdevelope\", \"logical\", \"look\", \"look\", \"look\", \"look\", \"loom\", \"machine\", \"machine\", \"machine\", \"machine\", \"macros\", \"major\", \"marine\", \"mark\", \"mark\", \"marry\", \"marvel\", \"match\", \"match\", \"meaningful\", \"mechanical\", \"microservice\", \"military\", \"model\", \"model\", \"model\", \"model\", \"monetization\", \"moon\", \"mountain\", \"multi\", \"mutual\", \"near\", \"networksknowledge\", \"new\", \"new\", \"new\", \"new\", \"nextdoor\", \"nextgen\", \"ngos\", \"noise\", \"northrop\", \"northropgrumman\", \"notable\", \"objectively\", \"objects\", \"obviously\", \"occasion\", \"occur\", \"ocean\", \"offthis\", \"okta\", \"opportunity\", \"opportunity\", \"opportunity\", \"opportunity\", \"optimizationstrong\", \"optimized\", \"oracle\", \"organization\", \"organization\", \"organization\", \"organization\", \"organizationexcellent\", \"overcome\", \"overlap\", \"overtime\", \"pacific\", \"pages\", \"paint\", \"pathrise\", \"pay\", \"pay\", \"pay\", \"pay\", \"payable\", \"perceive\", \"perspective\", \"phenomenon\", \"phone\", \"picture\", \"pioneering\", \"pipeline\", \"pipeline\", \"pixar\", \"plan\", \"plan\", \"plan\", \"plan\", \"plenty\", \"policy\", \"policy\", \"policy\", \"pollution\", \"pollutionuse\", \"position\", \"position\", \"position\", \"position\", \"possible\", \"posture\", \"power\", \"power\", \"prediction\", \"preferred\", \"preferred\", \"preferred\", \"preferred\", \"pregnancy\", \"present\", \"present\", \"present\", \"preserve\", \"privacy\", \"privacy\", \"problem\", \"problem\", \"problem\", \"problem\", \"problemsability\", \"process\", \"process\", \"process\", \"process\", \"produce\", \"product\", \"product\", \"product\", \"product\", \"productivity\", \"profile\", \"profile\", \"program\", \"program\", \"program\", \"project\", \"project\", \"project\", \"project\", \"projects\", \"projectscomfortable\", \"promotion\", \"provide\", \"provide\", \"provide\", \"provide\", \"publiclocation\", \"pythonstrong\", \"qualificationsexperience\", \"quality\", \"quality\", \"quality\", \"quantify\", \"query\", \"query\", \"query\", \"quick\", \"realize\", \"receptive\", \"recruiting\", \"reporting\", \"reporting\", \"reporting\", \"require\", \"require\", \"require\", \"require\", \"requirement\", \"requirement\", \"requirement\", \"requirement\", \"research\", \"research\", \"research\", \"researcher\", \"responsibility\", \"responsibility\", \"responsibility\", \"responsibility\", \"responsive\", \"retain\", \"retain\", \"role\", \"role\", \"role\", \"role\", \"rs21\", \"satellite\", \"savari\", \"savings\", \"sbseg\", \"science\", \"science\", \"science\", \"science\", \"sciences\", \"scientist\", \"scientist\", \"scientist\", \"scientist\", \"scientists\", \"scraper\", \"seen\", \"self\", \"self\", \"sensing\", \"sequencing\", \"series\", \"series\", \"service\", \"service\", \"service\", \"service\", \"shark\", \"skill\", \"skill\", \"skill\", \"skill\", \"skillsdemonstrated\", \"software\", \"software\", \"software\", \"solution\", \"solution\", \"solution\", \"solution\", \"sparkexperience\", \"spawn\", \"spectrum\", \"spirit\", \"stage\", \"standard\", \"status\", \"status\", \"status\", \"status\", \"stealth\", \"stewardship\", \"stipend\", \"stress\", \"successful\", \"successful\", \"supplier\", \"support\", \"support\", \"support\", \"support\", \"sustain\", \"sustainability\", \"synthesis\", \"synthetic\", \"tackle\", \"takingpeople\", \"talk\", \"talk\", \"tax\", \"teach\", \"team\", \"team\", \"team\", \"team\", \"teamproactive\", \"tech\", \"tech\", \"tech\", \"technically\", \"technique\", \"technique\", \"technique\", \"technique\", \"technology\", \"technology\", \"technology\", \"tensorflowneural\", \"terabyte\", \"testing\", \"testing\", \"therapist\", \"thousand\", \"threat\", \"time\", \"time\", \"time\", \"time\", \"title\", \"today\", \"today\", \"today\", \"tool\", \"tool\", \"tool\", \"tool\", \"topic\", \"tough\", \"tprm\", \"track\", \"trading\", \"transform\", \"transform\", \"transform\", \"trillion\", \"tuna\", \"turbotax\", \"ucsf\", \"understandable\", \"understandingrequired\", \"undertaking\", \"unreported\", \"upcoming\", \"vc\", \"venture\", \"venture\", \"venture\", \"vessel\", \"vesselscollaborate\", \"vet\", \"visualization\", \"visualization\", \"visualization\", \"visualizationsjob\", \"viz\", \"want\", \"want\", \"want\", \"warehouse\", \"warfighter\", \"watch\", \"waterfall\", \"way\", \"way\", \"weekend\", \"wellbeing\", \"work\", \"work\", \"work\", \"work\", \"workforce\", \"year\", \"year\", \"year\", \"year\", \"zones\"]}, \"R\": 30, \"lambda.step\": 0.01, \"plot.opts\": {\"xlab\": \"PC1\", \"ylab\": \"PC2\"}, \"topic.order\": [3, 1, 2, 5, 4]};\n",
       "\n",
       "function LDAvis_load_lib(url, callback){\n",
       "  var s = document.createElement('script');\n",
       "  s.src = url;\n",
       "  s.async = true;\n",
       "  s.onreadystatechange = s.onload = callback;\n",
       "  s.onerror = function(){console.warn(\"failed to load library \" + url);};\n",
       "  document.getElementsByTagName(\"head\")[0].appendChild(s);\n",
       "}\n",
       "\n",
       "if(typeof(LDAvis) !== \"undefined\"){\n",
       "   // already loaded: just create the visualization\n",
       "   !function(LDAvis){\n",
       "       new LDAvis(\"#\" + \"ldavis_el786017894001607123110813347\", ldavis_el786017894001607123110813347_data);\n",
       "   }(LDAvis);\n",
       "}else if(typeof define === \"function\" && define.amd){\n",
       "   // require.js is available: use it to load d3/LDAvis\n",
       "   require.config({paths: {d3: \"https://cdnjs.cloudflare.com/ajax/libs/d3/3.5.5/d3.min\"}});\n",
       "   require([\"d3\"], function(d3){\n",
       "      window.d3 = d3;\n",
       "      LDAvis_load_lib(\"https://cdn.rawgit.com/bmabey/pyLDAvis/files/ldavis.v1.0.0.js\", function(){\n",
       "        new LDAvis(\"#\" + \"ldavis_el786017894001607123110813347\", ldavis_el786017894001607123110813347_data);\n",
       "      });\n",
       "    });\n",
       "}else{\n",
       "    // require.js not available: dynamically load d3 & LDAvis\n",
       "    LDAvis_load_lib(\"https://cdnjs.cloudflare.com/ajax/libs/d3/3.5.5/d3.min.js\", function(){\n",
       "         LDAvis_load_lib(\"https://cdn.rawgit.com/bmabey/pyLDAvis/files/ldavis.v1.0.0.js\", function(){\n",
       "                 new LDAvis(\"#\" + \"ldavis_el786017894001607123110813347\", ldavis_el786017894001607123110813347_data);\n",
       "            })\n",
       "         });\n",
       "}\n",
       "</script>"
      ],
      "text/plain": [
       "PreparedData(topic_coordinates=               x          y  topics  cluster       Freq\n",
       "topic                                                  \n",
       "2       1.907879 -23.275269       1        1  50.280942\n",
       "0      -4.374902 -32.759380       2        1  18.003340\n",
       "1      10.014169 -37.727631       3        1  17.185487\n",
       "4       0.063107 -43.585655       4        1  14.387452\n",
       "3      13.118634 -26.762741       5        1   0.142780, topic_info=     Category        Freq            Term       Total  loglift  logprob\n",
       "196   Default   71.000000     application   71.000000  30.0000  30.0000\n",
       "420   Default   43.000000          career   43.000000  29.0000  29.0000\n",
       "726   Default  395.000000           datum  395.000000  28.0000  28.0000\n",
       "2097  Default   41.000000          policy   41.000000  27.0000  27.0000\n",
       "1931  Default   93.000000     opportunity   93.000000  26.0000  26.0000\n",
       "791   Default  116.000000         develop  116.000000  25.0000  25.0000\n",
       "947   Default   52.000000        employee   52.000000  24.0000  24.0000\n",
       "1185  Default   29.000000            free   29.000000  23.0000  23.0000\n",
       "2540  Default   70.000000         service   70.000000  22.0000  22.0000\n",
       "1288  Default   20.000000         grumman   20.000000  21.0000  21.0000\n",
       "1867  Default   20.000000        northrop   20.000000  20.0000  20.0000\n",
       "2804  Default   36.000000            tech   36.000000  19.0000  19.0000\n",
       "3103  Default  103.000000            year  103.000000  18.0000  18.0000\n",
       "1793  Default   76.000000           model   76.000000  17.0000  17.0000\n",
       "1514  Default   21.000000      investment   21.000000  16.0000  16.0000\n",
       "614   Default   36.000000        consumer   36.000000  15.0000  15.0000\n",
       "2797  Default  178.000000            team  178.000000  14.0000  14.0000\n",
       "704   Default   69.000000        customer   69.000000  13.0000  13.0000\n",
       "1501  Default   28.000000       interview   28.000000  12.0000  12.0000\n",
       "1055  Default  352.000000      experience  352.000000  11.0000  11.0000\n",
       "2197  Default   16.000000         profile   16.000000  10.0000  10.0000\n",
       "1451  Default   50.000000         insight   50.000000   9.0000   9.0000\n",
       "162   Default   58.000000             amp   58.000000   8.0000   8.0000\n",
       "1594  Default   48.000000           large   48.000000   7.0000   7.0000\n",
       "2422  Default   62.000000            role   62.000000   6.0000   6.0000\n",
       "1318  Default   84.000000          health   84.000000   5.0000   5.0000\n",
       "1261  Default   17.000000       goodwater   17.000000   4.0000   4.0000\n",
       "3082  Default  249.000000            work  249.000000   3.0000   3.0000\n",
       "669   Default   53.000000          create   53.000000   2.0000   2.0000\n",
       "552   Default  102.000000         company  102.000000   1.0000   1.0000\n",
       "...       ...         ...             ...         ...      ...      ...\n",
       "2085   Topic5    0.009520          plenty    1.529033   1.4726  -8.0658\n",
       "2940   Topic5    0.009520  understandable    1.529033   1.4726  -8.0658\n",
       "284    Topic5    0.009520        avengers    1.529033   1.4726  -8.0658\n",
       "2123   Topic5    0.009520         posture    1.529147   1.4726  -8.0658\n",
       "1334   Topic5    0.010327            hire   26.101658  -1.2833  -7.9844\n",
       "1136   Topic5    0.009520            flag    1.529147   1.4726  -8.0658\n",
       "2876   Topic5    0.009520            tprm    1.529147   1.4726  -8.0658\n",
       "2747   Topic5    0.009520        supplier    1.529147   1.4726  -8.0658\n",
       "2206   Topic5    0.009520        projects    1.529147   1.4726  -8.0658\n",
       "1522   Topic5    0.009520        iso27001    1.529147   1.4726  -8.0658\n",
       "1275   Topic5    0.009520             grc    1.529147   1.4726  -8.0658\n",
       "443    Topic5    0.009520   certification    1.529147   1.4726  -8.0658\n",
       "621    Topic5    0.009520       continual    1.529147   1.4726  -8.0658\n",
       "110    Topic5    0.009520       adherence    1.529147   1.4726  -8.0658\n",
       "545    Topic5    0.009520        commonly    1.529147   1.4726  -8.0658\n",
       "1521   Topic5    0.009520        is027001    1.529147   1.4726  -8.0658\n",
       "1031   Topic5    0.009520       exception    1.529147   1.4726  -8.0658\n",
       "1657   Topic5    0.009786        location   23.905167  -1.2492  -8.0382\n",
       "2808   Topic5    0.009684       technique   27.065117  -1.3839  -8.0488\n",
       "1433   Topic5    0.009662     information   31.499764  -1.5379  -8.0510\n",
       "2391   Topic5    0.009640  responsibility   31.793157  -1.5494  -8.0533\n",
       "1666   Topic5    0.009627            look   47.315015  -1.9484  -8.0547\n",
       "2481   Topic5    0.009609       scientist   52.920137  -2.0622  -8.0565\n",
       "1793   Topic5    0.009607           model   76.881920  -2.4359  -8.0567\n",
       "3024   Topic5    0.009605   visualization   37.828672  -1.7269  -8.0569\n",
       "388    Topic5    0.009600        business   98.307125  -2.6825  -8.0575\n",
       "2110   Topic5    0.009582        position   64.165419  -2.2577  -8.0593\n",
       "2853   Topic5    0.009578            time   81.393391  -2.4960  -8.0598\n",
       "1408   Topic5    0.009573         include   85.316331  -2.5436  -8.0603\n",
       "2178   Topic5    0.009569         problem   63.049244  -2.2415  -8.0606\n",
       "\n",
       "[516 rows x 6 columns], token_table=      Topic      Freq                Term\n",
       "term                                     \n",
       "12        2  0.985189                 160\n",
       "24        2  0.985189                 225\n",
       "35        4  0.654105                  45\n",
       "45        4  0.654105                  65\n",
       "51        4  0.749339                  85\n",
       "60        4  0.749339                  aa\n",
       "61        4  0.654008                 aaa\n",
       "65        1  0.726406             ability\n",
       "65        2  0.085460             ability\n",
       "65        3  0.128189             ability\n",
       "65        4  0.064095             ability\n",
       "79        1  0.193078             account\n",
       "79        2  0.096539             account\n",
       "79        3  0.724044             account\n",
       "85        1  0.958408             achieve\n",
       "90        1  0.276988              action\n",
       "90        2  0.069247              action\n",
       "90        4  0.623224              action\n",
       "96        4  0.654105       activitycombe\n",
       "98        2  0.985189            actually\n",
       "101       2  0.816460               adapt\n",
       "108       1  0.754361             address\n",
       "108       2  0.125727             address\n",
       "108       3  0.125727             address\n",
       "110       4  0.653959           adherence\n",
       "135       1  0.069169               agree\n",
       "135       3  0.899200               agree\n",
       "137       1  0.278225                  ai\n",
       "137       2  0.695563                  ai\n",
       "140       4  0.654105               aires\n",
       "...     ...       ...                 ...\n",
       "2993      3  0.148889             venture\n",
       "3003      4  0.943148              vessel\n",
       "3004      4  0.654105  vesselscollaborate\n",
       "3005      2  0.985189                 vet\n",
       "3024      1  0.793049       visualization\n",
       "3024      2  0.079305       visualization\n",
       "3024      4  0.132175       visualization\n",
       "3026      4  0.654105   visualizationsjob\n",
       "3028      4  0.654096                 viz\n",
       "3040      1  0.320601                want\n",
       "3040      3  0.641201                want\n",
       "3040      4  0.045800                want\n",
       "3041      2  0.871336           warehouse\n",
       "3043      4  0.749339          warfighter\n",
       "3048      4  0.749339               watch\n",
       "3049      4  0.749339           waterfall\n",
       "3050      1  0.916785                 way\n",
       "3050      4  0.050933                 way\n",
       "3058      4  0.654105             weekend\n",
       "3064      4  0.654096           wellbeing\n",
       "3082      1  0.580721                work\n",
       "3082      2  0.152189                work\n",
       "3082      3  0.112139                work\n",
       "3082      4  0.156194                work\n",
       "3086      4  0.828425           workforce\n",
       "3103      1  0.358415                year\n",
       "3103      2  0.377789                year\n",
       "3103      3  0.116243                year\n",
       "3103      4  0.145303                year\n",
       "3115      4  0.654105               zones\n",
       "\n",
       "[716 rows x 3 columns], R=30, lambda_step=0.01, plot_opts={'xlab': 'PC1', 'ylab': 'PC2'}, topic_order=[3, 1, 2, 5, 4])"
      ]
     },
     "execution_count": 35,
     "metadata": {},
     "output_type": "execute_result"
    }
   ],
   "source": [
    "# enable notebook\n",
    "pyLDAvis.enable_notebook()\n",
    "VIS = pyLDAvis.sklearn.prepare(LDA, DATA_VECTORIZED, VECTORIZER, mds='tsne')\n",
    "VIS"
   ]
  },
  {
   "cell_type": "code",
   "execution_count": null,
   "metadata": {},
   "outputs": [],
   "source": []
  }
 ],
 "metadata": {
  "kernelspec": {
   "display_name": "DS Unit 4 NLP",
   "language": "python",
   "name": "ds-u4-nlp"
  },
  "language_info": {
   "codemirror_mode": {
    "name": "ipython",
    "version": 3
   },
   "file_extension": ".py",
   "mimetype": "text/x-python",
   "name": "python",
   "nbconvert_exporter": "python",
   "pygments_lexer": "ipython3",
   "version": "3.7.6"
  }
 },
 "nbformat": 4,
 "nbformat_minor": 4
}
