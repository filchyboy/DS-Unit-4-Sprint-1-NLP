{
  "nbformat": 4,
  "nbformat_minor": 0,
  "metadata": {
    "colab": {
      "name": "Copy of Unit 4 Sprint 1 - Study Guide.ipynb",
      "provenance": [],
      "collapsed_sections": [],
      "include_colab_link": true
    },
    "kernelspec": {
      "name": "python3",
      "display_name": "Python 3"
    }
  },
  "cells": [
    {
      "cell_type": "markdown",
      "metadata": {
        "id": "view-in-github",
        "colab_type": "text"
      },
      "source": [
        "<a href=\"https://colab.research.google.com/github/filchyboy/DS-Unit-4-Sprint-1-NLP/blob/master/Copy_of_Unit_4_Sprint_1_Study_Guide.ipynb\" target=\"_parent\"><img src=\"https://colab.research.google.com/assets/colab-badge.svg\" alt=\"Open In Colab\"/></a>"
      ]
    },
    {
      "cell_type": "markdown",
      "metadata": {
        "id": "Nd2OOOVXxXS1",
        "colab_type": "text"
      },
      "source": [
        "This study guide should reinforce and provide practice for all of the concepts you have seen in Unit 4 Sprint 1. There are a mix of written questions and coding exercises, both are equally important to prepare you for the sprint challenge as well as to be able to speak on these topics comfortably in interviews and on the job.\n",
        "\n",
        "If you get stuck or are unsure of something remember the 20 minute rule. If that doesn't help, then research a solution with google and stackoverflow. Only once you have exausted these methods should you turn to your Team Lead - they won't be there on your SC or during an interview. That being said, don't hesitate to ask for help if you truly are stuck.\n",
        "\n",
        "Have fun studying!"
      ]
    },
    {
      "cell_type": "markdown",
      "metadata": {
        "id": "fpvInKdXekFi",
        "colab_type": "text"
      },
      "source": [
        "## Questions"
      ]
    },
    {
      "cell_type": "markdown",
      "metadata": {
        "id": "Q6bS8AhBZ86H",
        "colab_type": "text"
      },
      "source": [
        "When completing this section, try to limit your answers to 2-3 sentences max and use plain english as much as possible. It's very easy to hide incomplete knowledge and undertanding behind fancy or technical words, so imagine you are explaining these things to a non-technical interviewer.\n",
        "\n",
        "1. what does it mean to Tokenize?\n",
        "```\n",
        "Put your answer here\n",
        "```\n",
        "\n",
        "2.how would you go about tokenizing the data?\n",
        "```\n",
        "Put your answer here\n",
        "```\n",
        "\n",
        "3. how would you create a Vector of thoes tokens?\n",
        "```\n",
        "Put your answer here\n",
        "```\n",
        "\n",
        "\n",
        "```"
      ]
    },
    {
      "cell_type": "markdown",
      "metadata": {
        "id": "sj5-1Nnkpej6",
        "colab_type": "text"
      },
      "source": [
        "### what to study"
      ]
    },
    {
      "cell_type": "markdown",
      "metadata": {
        "id": "vz6CusBmpDgz",
        "colab_type": "text"
      },
      "source": [
        "tokenize\n",
        "```\n",
        "```\n",
        "vector representation\n",
        "```\n",
        "```\n",
        "classification model\n",
        "```\n",
        "```\n",
        "topic model\n",
        "```\n",
        "```\n",
        "piepline object\n",
        "```\n",
        "```\n",
        "named entity recognition\n",
        "```\n",
        "```\n",
        "vectorization methods\n",
        "```\n",
        "```\n",
        "generator object\n",
        "```\n"
      ]
    },
    {
      "cell_type": "markdown",
      "metadata": {
        "id": "dUQaIwbceohq",
        "colab_type": "text"
      },
      "source": [
        "## Practice Problems"
      ]
    },
    {
      "cell_type": "markdown",
      "metadata": {
        "id": "WAeFeS_xIkdk",
        "colab_type": "text"
      },
      "source": [
        "Use your own Data Set"
      ]
    },
    {
      "cell_type": "markdown",
      "metadata": {
        "id": "0myqx5w_InDM",
        "colab_type": "text"
      },
      "source": [
        "Analyze the corpus of text using text visualizations of token frequency. Try cleaning the data as much as possible. Try the following techniques:\n",
        "\n",
        "Lemmatization\n",
        "Custom stopword removal\n",
        "Keep in mind the attributes of good tokens. Once you have a solid baseline, layer in the star rating in your visualization(s). Key part of this assignment - produce a write-up of the attributes of the best and worst coffee shops. Based on your analysis, what makes the best the best and the worst the worst. Use graphs and numbesr from your analysis to support your conclusions."
      ]
    },
    {
      "cell_type": "markdown",
      "metadata": {
        "id": "4jnYgnFjP6eE",
        "colab_type": "text"
      },
      "source": [
        "Overall Word / Token Count\n",
        "View Counts by Rating\n"
      ]
    },
    {
      "cell_type": "code",
      "metadata": {
        "id": "S9hFYrmqQlLA",
        "colab_type": "code",
        "colab": {}
      },
      "source": [
        ""
      ],
      "execution_count": 0,
      "outputs": []
    },
    {
      "cell_type": "markdown",
      "metadata": {
        "id": "bCbET5ioQlmQ",
        "colab_type": "text"
      },
      "source": [
        "Can visualize the words with the greatest difference in counts between 'good' & 'bad'?"
      ]
    },
    {
      "cell_type": "code",
      "metadata": {
        "id": "lwNwPn5nQowi",
        "colab_type": "code",
        "colab": {}
      },
      "source": [
        ""
      ],
      "execution_count": 0,
      "outputs": []
    },
    {
      "cell_type": "markdown",
      "metadata": {
        "id": "2hq-PhcTQph7",
        "colab_type": "text"
      },
      "source": [
        "Use Spacy to tokenize the listings"
      ]
    },
    {
      "cell_type": "code",
      "metadata": {
        "id": "bD4BtmWNI6lr",
        "colab_type": "code",
        "colab": {}
      },
      "source": [
        ""
      ],
      "execution_count": 0,
      "outputs": []
    },
    {
      "cell_type": "markdown",
      "metadata": {
        "id": "qNOzs60uI70-",
        "colab_type": "text"
      },
      "source": [
        "Use Scikit-Learn's CountVectorizer to get word counts "
      ]
    },
    {
      "cell_type": "code",
      "metadata": {
        "id": "ZsWsuYwXRRP3",
        "colab_type": "code",
        "colab": {}
      },
      "source": [
        ""
      ],
      "execution_count": 0,
      "outputs": []
    },
    {
      "cell_type": "markdown",
      "metadata": {
        "id": "_teLVI02JCzH",
        "colab_type": "text"
      },
      "source": [
        "Visualize the most common word counts"
      ]
    },
    {
      "cell_type": "code",
      "metadata": {
        "id": "tWMUVjLtJATI",
        "colab_type": "code",
        "colab": {}
      },
      "source": [
        ""
      ],
      "execution_count": 0,
      "outputs": []
    },
    {
      "cell_type": "markdown",
      "metadata": {
        "id": "uZ3lrC03JEFg",
        "colab_type": "text"
      },
      "source": [
        "Use Scikit-Learn's tfidfVectorizer to get a TF-IDF feature matrix"
      ]
    },
    {
      "cell_type": "code",
      "metadata": {
        "id": "FbSDe4RyJJZS",
        "colab_type": "code",
        "colab": {}
      },
      "source": [
        ""
      ],
      "execution_count": 0,
      "outputs": []
    },
    {
      "cell_type": "markdown",
      "metadata": {
        "id": "3NSYkLcnJG4R",
        "colab_type": "text"
      },
      "source": [
        "Create a NearestNeighbor Model."
      ]
    },
    {
      "cell_type": "code",
      "metadata": {
        "id": "JkRZOpnHJOGq",
        "colab_type": "code",
        "colab": {}
      },
      "source": [
        ""
      ],
      "execution_count": 0,
      "outputs": []
    },
    {
      "cell_type": "markdown",
      "metadata": {
        "id": "Wc-bZUQQJO3O",
        "colab_type": "text"
      },
      "source": [
        "Try different visualizations for words and frequencies"
      ]
    },
    {
      "cell_type": "code",
      "metadata": {
        "id": "s6NZfHLdJRPU",
        "colab_type": "code",
        "colab": {}
      },
      "source": [
        ""
      ],
      "execution_count": 0,
      "outputs": []
    },
    {
      "cell_type": "markdown",
      "metadata": {
        "id": "pe2RMxvEJRW6",
        "colab_type": "text"
      },
      "source": [
        "Fit a Gensim LDA topic model"
      ]
    },
    {
      "cell_type": "code",
      "metadata": {
        "id": "yC4s0KtGJc1x",
        "colab_type": "code",
        "colab": {}
      },
      "source": [
        ""
      ],
      "execution_count": 0,
      "outputs": []
    }
  ]
}